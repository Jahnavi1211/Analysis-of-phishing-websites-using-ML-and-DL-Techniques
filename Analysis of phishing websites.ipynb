{
 "cells": [
  {
   "cell_type": "code",
   "execution_count": 108,
   "metadata": {
    "id": "Mgk7xmFkldF7"
   },
   "outputs": [],
   "source": [
    "import warnings\n",
    "warnings.filterwarnings(\"ignore\")\n",
    "import pandas as pd\n",
    "import numpy as np"
   ]
  },
  {
   "cell_type": "code",
   "execution_count": 109,
   "metadata": {
    "colab": {
     "base_uri": "https://localhost:8080/",
     "height": 383
    },
    "id": "lePd7JUIldGG",
    "outputId": "9d0e9940-78c9-482c-8a26-634d6272ce53"
   },
   "outputs": [
    {
     "data": {
      "text/html": [
       "<div>\n",
       "<style scoped>\n",
       "    .dataframe tbody tr th:only-of-type {\n",
       "        vertical-align: middle;\n",
       "    }\n",
       "\n",
       "    .dataframe tbody tr th {\n",
       "        vertical-align: top;\n",
       "    }\n",
       "\n",
       "    .dataframe thead th {\n",
       "        text-align: right;\n",
       "    }\n",
       "</style>\n",
       "<table border=\"1\" class=\"dataframe\">\n",
       "  <thead>\n",
       "    <tr style=\"text-align: right;\">\n",
       "      <th></th>\n",
       "      <th>having_IP_Address</th>\n",
       "      <th>URL_Length</th>\n",
       "      <th>Shortining_Service</th>\n",
       "      <th>having_At_Symbol</th>\n",
       "      <th>double_slash_redirecting</th>\n",
       "      <th>Prefix_Suffix</th>\n",
       "      <th>having_Sub_Domain</th>\n",
       "      <th>SSLfinal_State</th>\n",
       "      <th>Domain_registeration_length</th>\n",
       "      <th>Favicon</th>\n",
       "      <th>port</th>\n",
       "      <th>HTTPS_token</th>\n",
       "      <th>Request_URL</th>\n",
       "      <th>URL_of_Anchor</th>\n",
       "      <th>Links_in_tags</th>\n",
       "      <th>SFH</th>\n",
       "      <th>Submitting_to_email</th>\n",
       "      <th>Abnormal_URL</th>\n",
       "      <th>Redirect</th>\n",
       "      <th>on_mouseover</th>\n",
       "      <th>RightClick</th>\n",
       "      <th>popUpWidnow</th>\n",
       "      <th>Iframe</th>\n",
       "      <th>age_of_domain</th>\n",
       "      <th>DNSRecord</th>\n",
       "      <th>web_traffic</th>\n",
       "      <th>Page_Rank</th>\n",
       "      <th>Google_Index</th>\n",
       "      <th>Links_pointing_to_page</th>\n",
       "      <th>Statistical_report</th>\n",
       "      <th>Result</th>\n",
       "    </tr>\n",
       "  </thead>\n",
       "  <tbody>\n",
       "    <tr>\n",
       "      <th>0</th>\n",
       "      <td>-1</td>\n",
       "      <td>1</td>\n",
       "      <td>1</td>\n",
       "      <td>1</td>\n",
       "      <td>-1</td>\n",
       "      <td>-1</td>\n",
       "      <td>-1</td>\n",
       "      <td>-1</td>\n",
       "      <td>-1</td>\n",
       "      <td>1</td>\n",
       "      <td>1</td>\n",
       "      <td>-1</td>\n",
       "      <td>1</td>\n",
       "      <td>-1</td>\n",
       "      <td>1</td>\n",
       "      <td>-1</td>\n",
       "      <td>-1</td>\n",
       "      <td>-1</td>\n",
       "      <td>0</td>\n",
       "      <td>1</td>\n",
       "      <td>1</td>\n",
       "      <td>1</td>\n",
       "      <td>1</td>\n",
       "      <td>-1</td>\n",
       "      <td>-1</td>\n",
       "      <td>-1</td>\n",
       "      <td>-1</td>\n",
       "      <td>1</td>\n",
       "      <td>1</td>\n",
       "      <td>-1</td>\n",
       "      <td>-1</td>\n",
       "    </tr>\n",
       "    <tr>\n",
       "      <th>1</th>\n",
       "      <td>1</td>\n",
       "      <td>1</td>\n",
       "      <td>1</td>\n",
       "      <td>1</td>\n",
       "      <td>1</td>\n",
       "      <td>-1</td>\n",
       "      <td>0</td>\n",
       "      <td>1</td>\n",
       "      <td>-1</td>\n",
       "      <td>1</td>\n",
       "      <td>1</td>\n",
       "      <td>-1</td>\n",
       "      <td>1</td>\n",
       "      <td>0</td>\n",
       "      <td>-1</td>\n",
       "      <td>-1</td>\n",
       "      <td>1</td>\n",
       "      <td>1</td>\n",
       "      <td>0</td>\n",
       "      <td>1</td>\n",
       "      <td>1</td>\n",
       "      <td>1</td>\n",
       "      <td>1</td>\n",
       "      <td>-1</td>\n",
       "      <td>-1</td>\n",
       "      <td>0</td>\n",
       "      <td>-1</td>\n",
       "      <td>1</td>\n",
       "      <td>1</td>\n",
       "      <td>1</td>\n",
       "      <td>-1</td>\n",
       "    </tr>\n",
       "    <tr>\n",
       "      <th>2</th>\n",
       "      <td>1</td>\n",
       "      <td>0</td>\n",
       "      <td>1</td>\n",
       "      <td>1</td>\n",
       "      <td>1</td>\n",
       "      <td>-1</td>\n",
       "      <td>-1</td>\n",
       "      <td>-1</td>\n",
       "      <td>-1</td>\n",
       "      <td>1</td>\n",
       "      <td>1</td>\n",
       "      <td>-1</td>\n",
       "      <td>1</td>\n",
       "      <td>0</td>\n",
       "      <td>-1</td>\n",
       "      <td>-1</td>\n",
       "      <td>-1</td>\n",
       "      <td>-1</td>\n",
       "      <td>0</td>\n",
       "      <td>1</td>\n",
       "      <td>1</td>\n",
       "      <td>1</td>\n",
       "      <td>1</td>\n",
       "      <td>1</td>\n",
       "      <td>-1</td>\n",
       "      <td>1</td>\n",
       "      <td>-1</td>\n",
       "      <td>1</td>\n",
       "      <td>0</td>\n",
       "      <td>-1</td>\n",
       "      <td>-1</td>\n",
       "    </tr>\n",
       "    <tr>\n",
       "      <th>3</th>\n",
       "      <td>1</td>\n",
       "      <td>0</td>\n",
       "      <td>1</td>\n",
       "      <td>1</td>\n",
       "      <td>1</td>\n",
       "      <td>-1</td>\n",
       "      <td>-1</td>\n",
       "      <td>-1</td>\n",
       "      <td>1</td>\n",
       "      <td>1</td>\n",
       "      <td>1</td>\n",
       "      <td>-1</td>\n",
       "      <td>-1</td>\n",
       "      <td>0</td>\n",
       "      <td>0</td>\n",
       "      <td>-1</td>\n",
       "      <td>1</td>\n",
       "      <td>1</td>\n",
       "      <td>0</td>\n",
       "      <td>1</td>\n",
       "      <td>1</td>\n",
       "      <td>1</td>\n",
       "      <td>1</td>\n",
       "      <td>-1</td>\n",
       "      <td>-1</td>\n",
       "      <td>1</td>\n",
       "      <td>-1</td>\n",
       "      <td>1</td>\n",
       "      <td>-1</td>\n",
       "      <td>1</td>\n",
       "      <td>-1</td>\n",
       "    </tr>\n",
       "    <tr>\n",
       "      <th>4</th>\n",
       "      <td>1</td>\n",
       "      <td>0</td>\n",
       "      <td>-1</td>\n",
       "      <td>1</td>\n",
       "      <td>1</td>\n",
       "      <td>-1</td>\n",
       "      <td>1</td>\n",
       "      <td>1</td>\n",
       "      <td>-1</td>\n",
       "      <td>1</td>\n",
       "      <td>1</td>\n",
       "      <td>1</td>\n",
       "      <td>1</td>\n",
       "      <td>0</td>\n",
       "      <td>0</td>\n",
       "      <td>-1</td>\n",
       "      <td>1</td>\n",
       "      <td>1</td>\n",
       "      <td>0</td>\n",
       "      <td>-1</td>\n",
       "      <td>1</td>\n",
       "      <td>-1</td>\n",
       "      <td>1</td>\n",
       "      <td>-1</td>\n",
       "      <td>-1</td>\n",
       "      <td>0</td>\n",
       "      <td>-1</td>\n",
       "      <td>1</td>\n",
       "      <td>1</td>\n",
       "      <td>1</td>\n",
       "      <td>1</td>\n",
       "    </tr>\n",
       "    <tr>\n",
       "      <th>5</th>\n",
       "      <td>-1</td>\n",
       "      <td>0</td>\n",
       "      <td>-1</td>\n",
       "      <td>1</td>\n",
       "      <td>-1</td>\n",
       "      <td>-1</td>\n",
       "      <td>1</td>\n",
       "      <td>1</td>\n",
       "      <td>-1</td>\n",
       "      <td>1</td>\n",
       "      <td>1</td>\n",
       "      <td>-1</td>\n",
       "      <td>1</td>\n",
       "      <td>0</td>\n",
       "      <td>0</td>\n",
       "      <td>-1</td>\n",
       "      <td>-1</td>\n",
       "      <td>-1</td>\n",
       "      <td>0</td>\n",
       "      <td>1</td>\n",
       "      <td>1</td>\n",
       "      <td>1</td>\n",
       "      <td>1</td>\n",
       "      <td>1</td>\n",
       "      <td>1</td>\n",
       "      <td>1</td>\n",
       "      <td>-1</td>\n",
       "      <td>1</td>\n",
       "      <td>-1</td>\n",
       "      <td>-1</td>\n",
       "      <td>1</td>\n",
       "    </tr>\n",
       "    <tr>\n",
       "      <th>6</th>\n",
       "      <td>1</td>\n",
       "      <td>0</td>\n",
       "      <td>-1</td>\n",
       "      <td>1</td>\n",
       "      <td>1</td>\n",
       "      <td>-1</td>\n",
       "      <td>-1</td>\n",
       "      <td>-1</td>\n",
       "      <td>1</td>\n",
       "      <td>1</td>\n",
       "      <td>1</td>\n",
       "      <td>1</td>\n",
       "      <td>-1</td>\n",
       "      <td>-1</td>\n",
       "      <td>0</td>\n",
       "      <td>-1</td>\n",
       "      <td>-1</td>\n",
       "      <td>-1</td>\n",
       "      <td>0</td>\n",
       "      <td>1</td>\n",
       "      <td>1</td>\n",
       "      <td>1</td>\n",
       "      <td>1</td>\n",
       "      <td>1</td>\n",
       "      <td>-1</td>\n",
       "      <td>-1</td>\n",
       "      <td>-1</td>\n",
       "      <td>1</td>\n",
       "      <td>0</td>\n",
       "      <td>-1</td>\n",
       "      <td>-1</td>\n",
       "    </tr>\n",
       "    <tr>\n",
       "      <th>7</th>\n",
       "      <td>1</td>\n",
       "      <td>0</td>\n",
       "      <td>1</td>\n",
       "      <td>1</td>\n",
       "      <td>1</td>\n",
       "      <td>-1</td>\n",
       "      <td>-1</td>\n",
       "      <td>-1</td>\n",
       "      <td>1</td>\n",
       "      <td>1</td>\n",
       "      <td>1</td>\n",
       "      <td>-1</td>\n",
       "      <td>-1</td>\n",
       "      <td>0</td>\n",
       "      <td>-1</td>\n",
       "      <td>-1</td>\n",
       "      <td>1</td>\n",
       "      <td>1</td>\n",
       "      <td>0</td>\n",
       "      <td>1</td>\n",
       "      <td>1</td>\n",
       "      <td>1</td>\n",
       "      <td>1</td>\n",
       "      <td>-1</td>\n",
       "      <td>-1</td>\n",
       "      <td>0</td>\n",
       "      <td>-1</td>\n",
       "      <td>1</td>\n",
       "      <td>0</td>\n",
       "      <td>1</td>\n",
       "      <td>-1</td>\n",
       "    </tr>\n",
       "    <tr>\n",
       "      <th>8</th>\n",
       "      <td>1</td>\n",
       "      <td>0</td>\n",
       "      <td>-1</td>\n",
       "      <td>1</td>\n",
       "      <td>1</td>\n",
       "      <td>-1</td>\n",
       "      <td>1</td>\n",
       "      <td>1</td>\n",
       "      <td>-1</td>\n",
       "      <td>1</td>\n",
       "      <td>1</td>\n",
       "      <td>-1</td>\n",
       "      <td>1</td>\n",
       "      <td>0</td>\n",
       "      <td>1</td>\n",
       "      <td>-1</td>\n",
       "      <td>1</td>\n",
       "      <td>1</td>\n",
       "      <td>0</td>\n",
       "      <td>1</td>\n",
       "      <td>1</td>\n",
       "      <td>1</td>\n",
       "      <td>1</td>\n",
       "      <td>1</td>\n",
       "      <td>-1</td>\n",
       "      <td>1</td>\n",
       "      <td>1</td>\n",
       "      <td>1</td>\n",
       "      <td>0</td>\n",
       "      <td>1</td>\n",
       "      <td>1</td>\n",
       "    </tr>\n",
       "    <tr>\n",
       "      <th>9</th>\n",
       "      <td>1</td>\n",
       "      <td>1</td>\n",
       "      <td>-1</td>\n",
       "      <td>1</td>\n",
       "      <td>1</td>\n",
       "      <td>-1</td>\n",
       "      <td>-1</td>\n",
       "      <td>1</td>\n",
       "      <td>-1</td>\n",
       "      <td>1</td>\n",
       "      <td>1</td>\n",
       "      <td>1</td>\n",
       "      <td>1</td>\n",
       "      <td>0</td>\n",
       "      <td>1</td>\n",
       "      <td>-1</td>\n",
       "      <td>1</td>\n",
       "      <td>1</td>\n",
       "      <td>0</td>\n",
       "      <td>1</td>\n",
       "      <td>1</td>\n",
       "      <td>1</td>\n",
       "      <td>1</td>\n",
       "      <td>1</td>\n",
       "      <td>-1</td>\n",
       "      <td>0</td>\n",
       "      <td>-1</td>\n",
       "      <td>1</td>\n",
       "      <td>0</td>\n",
       "      <td>1</td>\n",
       "      <td>-1</td>\n",
       "    </tr>\n",
       "  </tbody>\n",
       "</table>\n",
       "</div>"
      ],
      "text/plain": [
       "   having_IP_Address  URL_Length  ...  Statistical_report  Result\n",
       "0                 -1           1  ...                  -1      -1\n",
       "1                  1           1  ...                   1      -1\n",
       "2                  1           0  ...                  -1      -1\n",
       "3                  1           0  ...                   1      -1\n",
       "4                  1           0  ...                   1       1\n",
       "5                 -1           0  ...                  -1       1\n",
       "6                  1           0  ...                  -1      -1\n",
       "7                  1           0  ...                   1      -1\n",
       "8                  1           0  ...                   1       1\n",
       "9                  1           1  ...                   1      -1\n",
       "\n",
       "[10 rows x 31 columns]"
      ]
     },
     "execution_count": 109,
     "metadata": {
      "tags": []
     },
     "output_type": "execute_result"
    }
   ],
   "source": [
    "data = pd.read_csv('Phishing.csv')\n",
    "data.head(10)"
   ]
  },
  {
   "cell_type": "code",
   "execution_count": 110,
   "metadata": {
    "colab": {
     "base_uri": "https://localhost:8080/",
     "height": 1000
    },
    "id": "0jBbamozldGI",
    "outputId": "ca0b2783-027e-43ca-ef3e-3931900a2b16"
   },
   "outputs": [
    {
     "data": {
      "text/html": [
       "<div>\n",
       "<style scoped>\n",
       "    .dataframe tbody tr th:only-of-type {\n",
       "        vertical-align: middle;\n",
       "    }\n",
       "\n",
       "    .dataframe tbody tr th {\n",
       "        vertical-align: top;\n",
       "    }\n",
       "\n",
       "    .dataframe thead th {\n",
       "        text-align: right;\n",
       "    }\n",
       "</style>\n",
       "<table border=\"1\" class=\"dataframe\">\n",
       "  <thead>\n",
       "    <tr style=\"text-align: right;\">\n",
       "      <th></th>\n",
       "      <th>0</th>\n",
       "      <th>1</th>\n",
       "      <th>2</th>\n",
       "      <th>3</th>\n",
       "      <th>4</th>\n",
       "      <th>5</th>\n",
       "      <th>6</th>\n",
       "      <th>7</th>\n",
       "      <th>8</th>\n",
       "      <th>9</th>\n",
       "    </tr>\n",
       "  </thead>\n",
       "  <tbody>\n",
       "    <tr>\n",
       "      <th>having_IP_Address</th>\n",
       "      <td>-1</td>\n",
       "      <td>1</td>\n",
       "      <td>1</td>\n",
       "      <td>1</td>\n",
       "      <td>1</td>\n",
       "      <td>-1</td>\n",
       "      <td>1</td>\n",
       "      <td>1</td>\n",
       "      <td>1</td>\n",
       "      <td>1</td>\n",
       "    </tr>\n",
       "    <tr>\n",
       "      <th>URL_Length</th>\n",
       "      <td>1</td>\n",
       "      <td>1</td>\n",
       "      <td>0</td>\n",
       "      <td>0</td>\n",
       "      <td>0</td>\n",
       "      <td>0</td>\n",
       "      <td>0</td>\n",
       "      <td>0</td>\n",
       "      <td>0</td>\n",
       "      <td>1</td>\n",
       "    </tr>\n",
       "    <tr>\n",
       "      <th>Shortining_Service</th>\n",
       "      <td>1</td>\n",
       "      <td>1</td>\n",
       "      <td>1</td>\n",
       "      <td>1</td>\n",
       "      <td>-1</td>\n",
       "      <td>-1</td>\n",
       "      <td>-1</td>\n",
       "      <td>1</td>\n",
       "      <td>-1</td>\n",
       "      <td>-1</td>\n",
       "    </tr>\n",
       "    <tr>\n",
       "      <th>having_At_Symbol</th>\n",
       "      <td>1</td>\n",
       "      <td>1</td>\n",
       "      <td>1</td>\n",
       "      <td>1</td>\n",
       "      <td>1</td>\n",
       "      <td>1</td>\n",
       "      <td>1</td>\n",
       "      <td>1</td>\n",
       "      <td>1</td>\n",
       "      <td>1</td>\n",
       "    </tr>\n",
       "    <tr>\n",
       "      <th>double_slash_redirecting</th>\n",
       "      <td>-1</td>\n",
       "      <td>1</td>\n",
       "      <td>1</td>\n",
       "      <td>1</td>\n",
       "      <td>1</td>\n",
       "      <td>-1</td>\n",
       "      <td>1</td>\n",
       "      <td>1</td>\n",
       "      <td>1</td>\n",
       "      <td>1</td>\n",
       "    </tr>\n",
       "    <tr>\n",
       "      <th>Prefix_Suffix</th>\n",
       "      <td>-1</td>\n",
       "      <td>-1</td>\n",
       "      <td>-1</td>\n",
       "      <td>-1</td>\n",
       "      <td>-1</td>\n",
       "      <td>-1</td>\n",
       "      <td>-1</td>\n",
       "      <td>-1</td>\n",
       "      <td>-1</td>\n",
       "      <td>-1</td>\n",
       "    </tr>\n",
       "    <tr>\n",
       "      <th>having_Sub_Domain</th>\n",
       "      <td>-1</td>\n",
       "      <td>0</td>\n",
       "      <td>-1</td>\n",
       "      <td>-1</td>\n",
       "      <td>1</td>\n",
       "      <td>1</td>\n",
       "      <td>-1</td>\n",
       "      <td>-1</td>\n",
       "      <td>1</td>\n",
       "      <td>-1</td>\n",
       "    </tr>\n",
       "    <tr>\n",
       "      <th>SSLfinal_State</th>\n",
       "      <td>-1</td>\n",
       "      <td>1</td>\n",
       "      <td>-1</td>\n",
       "      <td>-1</td>\n",
       "      <td>1</td>\n",
       "      <td>1</td>\n",
       "      <td>-1</td>\n",
       "      <td>-1</td>\n",
       "      <td>1</td>\n",
       "      <td>1</td>\n",
       "    </tr>\n",
       "    <tr>\n",
       "      <th>Domain_registeration_length</th>\n",
       "      <td>-1</td>\n",
       "      <td>-1</td>\n",
       "      <td>-1</td>\n",
       "      <td>1</td>\n",
       "      <td>-1</td>\n",
       "      <td>-1</td>\n",
       "      <td>1</td>\n",
       "      <td>1</td>\n",
       "      <td>-1</td>\n",
       "      <td>-1</td>\n",
       "    </tr>\n",
       "    <tr>\n",
       "      <th>Favicon</th>\n",
       "      <td>1</td>\n",
       "      <td>1</td>\n",
       "      <td>1</td>\n",
       "      <td>1</td>\n",
       "      <td>1</td>\n",
       "      <td>1</td>\n",
       "      <td>1</td>\n",
       "      <td>1</td>\n",
       "      <td>1</td>\n",
       "      <td>1</td>\n",
       "    </tr>\n",
       "    <tr>\n",
       "      <th>port</th>\n",
       "      <td>1</td>\n",
       "      <td>1</td>\n",
       "      <td>1</td>\n",
       "      <td>1</td>\n",
       "      <td>1</td>\n",
       "      <td>1</td>\n",
       "      <td>1</td>\n",
       "      <td>1</td>\n",
       "      <td>1</td>\n",
       "      <td>1</td>\n",
       "    </tr>\n",
       "    <tr>\n",
       "      <th>HTTPS_token</th>\n",
       "      <td>-1</td>\n",
       "      <td>-1</td>\n",
       "      <td>-1</td>\n",
       "      <td>-1</td>\n",
       "      <td>1</td>\n",
       "      <td>-1</td>\n",
       "      <td>1</td>\n",
       "      <td>-1</td>\n",
       "      <td>-1</td>\n",
       "      <td>1</td>\n",
       "    </tr>\n",
       "    <tr>\n",
       "      <th>Request_URL</th>\n",
       "      <td>1</td>\n",
       "      <td>1</td>\n",
       "      <td>1</td>\n",
       "      <td>-1</td>\n",
       "      <td>1</td>\n",
       "      <td>1</td>\n",
       "      <td>-1</td>\n",
       "      <td>-1</td>\n",
       "      <td>1</td>\n",
       "      <td>1</td>\n",
       "    </tr>\n",
       "    <tr>\n",
       "      <th>URL_of_Anchor</th>\n",
       "      <td>-1</td>\n",
       "      <td>0</td>\n",
       "      <td>0</td>\n",
       "      <td>0</td>\n",
       "      <td>0</td>\n",
       "      <td>0</td>\n",
       "      <td>-1</td>\n",
       "      <td>0</td>\n",
       "      <td>0</td>\n",
       "      <td>0</td>\n",
       "    </tr>\n",
       "    <tr>\n",
       "      <th>Links_in_tags</th>\n",
       "      <td>1</td>\n",
       "      <td>-1</td>\n",
       "      <td>-1</td>\n",
       "      <td>0</td>\n",
       "      <td>0</td>\n",
       "      <td>0</td>\n",
       "      <td>0</td>\n",
       "      <td>-1</td>\n",
       "      <td>1</td>\n",
       "      <td>1</td>\n",
       "    </tr>\n",
       "    <tr>\n",
       "      <th>SFH</th>\n",
       "      <td>-1</td>\n",
       "      <td>-1</td>\n",
       "      <td>-1</td>\n",
       "      <td>-1</td>\n",
       "      <td>-1</td>\n",
       "      <td>-1</td>\n",
       "      <td>-1</td>\n",
       "      <td>-1</td>\n",
       "      <td>-1</td>\n",
       "      <td>-1</td>\n",
       "    </tr>\n",
       "    <tr>\n",
       "      <th>Submitting_to_email</th>\n",
       "      <td>-1</td>\n",
       "      <td>1</td>\n",
       "      <td>-1</td>\n",
       "      <td>1</td>\n",
       "      <td>1</td>\n",
       "      <td>-1</td>\n",
       "      <td>-1</td>\n",
       "      <td>1</td>\n",
       "      <td>1</td>\n",
       "      <td>1</td>\n",
       "    </tr>\n",
       "    <tr>\n",
       "      <th>Abnormal_URL</th>\n",
       "      <td>-1</td>\n",
       "      <td>1</td>\n",
       "      <td>-1</td>\n",
       "      <td>1</td>\n",
       "      <td>1</td>\n",
       "      <td>-1</td>\n",
       "      <td>-1</td>\n",
       "      <td>1</td>\n",
       "      <td>1</td>\n",
       "      <td>1</td>\n",
       "    </tr>\n",
       "    <tr>\n",
       "      <th>Redirect</th>\n",
       "      <td>0</td>\n",
       "      <td>0</td>\n",
       "      <td>0</td>\n",
       "      <td>0</td>\n",
       "      <td>0</td>\n",
       "      <td>0</td>\n",
       "      <td>0</td>\n",
       "      <td>0</td>\n",
       "      <td>0</td>\n",
       "      <td>0</td>\n",
       "    </tr>\n",
       "    <tr>\n",
       "      <th>on_mouseover</th>\n",
       "      <td>1</td>\n",
       "      <td>1</td>\n",
       "      <td>1</td>\n",
       "      <td>1</td>\n",
       "      <td>-1</td>\n",
       "      <td>1</td>\n",
       "      <td>1</td>\n",
       "      <td>1</td>\n",
       "      <td>1</td>\n",
       "      <td>1</td>\n",
       "    </tr>\n",
       "    <tr>\n",
       "      <th>RightClick</th>\n",
       "      <td>1</td>\n",
       "      <td>1</td>\n",
       "      <td>1</td>\n",
       "      <td>1</td>\n",
       "      <td>1</td>\n",
       "      <td>1</td>\n",
       "      <td>1</td>\n",
       "      <td>1</td>\n",
       "      <td>1</td>\n",
       "      <td>1</td>\n",
       "    </tr>\n",
       "    <tr>\n",
       "      <th>popUpWidnow</th>\n",
       "      <td>1</td>\n",
       "      <td>1</td>\n",
       "      <td>1</td>\n",
       "      <td>1</td>\n",
       "      <td>-1</td>\n",
       "      <td>1</td>\n",
       "      <td>1</td>\n",
       "      <td>1</td>\n",
       "      <td>1</td>\n",
       "      <td>1</td>\n",
       "    </tr>\n",
       "    <tr>\n",
       "      <th>Iframe</th>\n",
       "      <td>1</td>\n",
       "      <td>1</td>\n",
       "      <td>1</td>\n",
       "      <td>1</td>\n",
       "      <td>1</td>\n",
       "      <td>1</td>\n",
       "      <td>1</td>\n",
       "      <td>1</td>\n",
       "      <td>1</td>\n",
       "      <td>1</td>\n",
       "    </tr>\n",
       "    <tr>\n",
       "      <th>age_of_domain</th>\n",
       "      <td>-1</td>\n",
       "      <td>-1</td>\n",
       "      <td>1</td>\n",
       "      <td>-1</td>\n",
       "      <td>-1</td>\n",
       "      <td>1</td>\n",
       "      <td>1</td>\n",
       "      <td>-1</td>\n",
       "      <td>1</td>\n",
       "      <td>1</td>\n",
       "    </tr>\n",
       "    <tr>\n",
       "      <th>DNSRecord</th>\n",
       "      <td>-1</td>\n",
       "      <td>-1</td>\n",
       "      <td>-1</td>\n",
       "      <td>-1</td>\n",
       "      <td>-1</td>\n",
       "      <td>1</td>\n",
       "      <td>-1</td>\n",
       "      <td>-1</td>\n",
       "      <td>-1</td>\n",
       "      <td>-1</td>\n",
       "    </tr>\n",
       "    <tr>\n",
       "      <th>web_traffic</th>\n",
       "      <td>-1</td>\n",
       "      <td>0</td>\n",
       "      <td>1</td>\n",
       "      <td>1</td>\n",
       "      <td>0</td>\n",
       "      <td>1</td>\n",
       "      <td>-1</td>\n",
       "      <td>0</td>\n",
       "      <td>1</td>\n",
       "      <td>0</td>\n",
       "    </tr>\n",
       "    <tr>\n",
       "      <th>Page_Rank</th>\n",
       "      <td>-1</td>\n",
       "      <td>-1</td>\n",
       "      <td>-1</td>\n",
       "      <td>-1</td>\n",
       "      <td>-1</td>\n",
       "      <td>-1</td>\n",
       "      <td>-1</td>\n",
       "      <td>-1</td>\n",
       "      <td>1</td>\n",
       "      <td>-1</td>\n",
       "    </tr>\n",
       "    <tr>\n",
       "      <th>Google_Index</th>\n",
       "      <td>1</td>\n",
       "      <td>1</td>\n",
       "      <td>1</td>\n",
       "      <td>1</td>\n",
       "      <td>1</td>\n",
       "      <td>1</td>\n",
       "      <td>1</td>\n",
       "      <td>1</td>\n",
       "      <td>1</td>\n",
       "      <td>1</td>\n",
       "    </tr>\n",
       "    <tr>\n",
       "      <th>Links_pointing_to_page</th>\n",
       "      <td>1</td>\n",
       "      <td>1</td>\n",
       "      <td>0</td>\n",
       "      <td>-1</td>\n",
       "      <td>1</td>\n",
       "      <td>-1</td>\n",
       "      <td>0</td>\n",
       "      <td>0</td>\n",
       "      <td>0</td>\n",
       "      <td>0</td>\n",
       "    </tr>\n",
       "    <tr>\n",
       "      <th>Statistical_report</th>\n",
       "      <td>-1</td>\n",
       "      <td>1</td>\n",
       "      <td>-1</td>\n",
       "      <td>1</td>\n",
       "      <td>1</td>\n",
       "      <td>-1</td>\n",
       "      <td>-1</td>\n",
       "      <td>1</td>\n",
       "      <td>1</td>\n",
       "      <td>1</td>\n",
       "    </tr>\n",
       "    <tr>\n",
       "      <th>Result</th>\n",
       "      <td>-1</td>\n",
       "      <td>-1</td>\n",
       "      <td>-1</td>\n",
       "      <td>-1</td>\n",
       "      <td>1</td>\n",
       "      <td>1</td>\n",
       "      <td>-1</td>\n",
       "      <td>-1</td>\n",
       "      <td>1</td>\n",
       "      <td>-1</td>\n",
       "    </tr>\n",
       "  </tbody>\n",
       "</table>\n",
       "</div>"
      ],
      "text/plain": [
       "                             0  1  2  3  4  5  6  7  8  9\n",
       "having_IP_Address           -1  1  1  1  1 -1  1  1  1  1\n",
       "URL_Length                   1  1  0  0  0  0  0  0  0  1\n",
       "Shortining_Service           1  1  1  1 -1 -1 -1  1 -1 -1\n",
       "having_At_Symbol             1  1  1  1  1  1  1  1  1  1\n",
       "double_slash_redirecting    -1  1  1  1  1 -1  1  1  1  1\n",
       "Prefix_Suffix               -1 -1 -1 -1 -1 -1 -1 -1 -1 -1\n",
       "having_Sub_Domain           -1  0 -1 -1  1  1 -1 -1  1 -1\n",
       "SSLfinal_State              -1  1 -1 -1  1  1 -1 -1  1  1\n",
       "Domain_registeration_length -1 -1 -1  1 -1 -1  1  1 -1 -1\n",
       "Favicon                      1  1  1  1  1  1  1  1  1  1\n",
       "port                         1  1  1  1  1  1  1  1  1  1\n",
       "HTTPS_token                 -1 -1 -1 -1  1 -1  1 -1 -1  1\n",
       "Request_URL                  1  1  1 -1  1  1 -1 -1  1  1\n",
       "URL_of_Anchor               -1  0  0  0  0  0 -1  0  0  0\n",
       "Links_in_tags                1 -1 -1  0  0  0  0 -1  1  1\n",
       "SFH                         -1 -1 -1 -1 -1 -1 -1 -1 -1 -1\n",
       "Submitting_to_email         -1  1 -1  1  1 -1 -1  1  1  1\n",
       "Abnormal_URL                -1  1 -1  1  1 -1 -1  1  1  1\n",
       "Redirect                     0  0  0  0  0  0  0  0  0  0\n",
       "on_mouseover                 1  1  1  1 -1  1  1  1  1  1\n",
       "RightClick                   1  1  1  1  1  1  1  1  1  1\n",
       "popUpWidnow                  1  1  1  1 -1  1  1  1  1  1\n",
       "Iframe                       1  1  1  1  1  1  1  1  1  1\n",
       "age_of_domain               -1 -1  1 -1 -1  1  1 -1  1  1\n",
       "DNSRecord                   -1 -1 -1 -1 -1  1 -1 -1 -1 -1\n",
       "web_traffic                 -1  0  1  1  0  1 -1  0  1  0\n",
       "Page_Rank                   -1 -1 -1 -1 -1 -1 -1 -1  1 -1\n",
       "Google_Index                 1  1  1  1  1  1  1  1  1  1\n",
       "Links_pointing_to_page       1  1  0 -1  1 -1  0  0  0  0\n",
       "Statistical_report          -1  1 -1  1  1 -1 -1  1  1  1\n",
       "Result                      -1 -1 -1 -1  1  1 -1 -1  1 -1"
      ]
     },
     "execution_count": 110,
     "metadata": {
      "tags": []
     },
     "output_type": "execute_result"
    }
   ],
   "source": [
    "data.head(10).T"
   ]
  },
  {
   "cell_type": "code",
   "execution_count": 111,
   "metadata": {
    "colab": {
     "base_uri": "https://localhost:8080/"
    },
    "id": "1H0eVbG2ldGJ",
    "outputId": "1fef1094-6466-4343-f358-b11254e852ff"
   },
   "outputs": [
    {
     "data": {
      "text/plain": [
       "(11055, 31)"
      ]
     },
     "execution_count": 111,
     "metadata": {
      "tags": []
     },
     "output_type": "execute_result"
    }
   ],
   "source": [
    "data.shape"
   ]
  },
  {
   "cell_type": "code",
   "execution_count": 112,
   "metadata": {
    "colab": {
     "base_uri": "https://localhost:8080/"
    },
    "id": "opWh6hYQldGK",
    "outputId": "9f210e8e-0d0e-4b68-ac5b-eb2e40f0461c"
   },
   "outputs": [
    {
     "data": {
      "text/plain": [
       "Index(['having_IP_Address', 'URL_Length', 'Shortining_Service',\n",
       "       'having_At_Symbol', 'double_slash_redirecting', 'Prefix_Suffix',\n",
       "       'having_Sub_Domain', 'SSLfinal_State', 'Domain_registeration_length',\n",
       "       'Favicon', 'port', 'HTTPS_token', 'Request_URL', 'URL_of_Anchor',\n",
       "       'Links_in_tags', 'SFH', 'Submitting_to_email', 'Abnormal_URL',\n",
       "       'Redirect', 'on_mouseover', 'RightClick', 'popUpWidnow', 'Iframe',\n",
       "       'age_of_domain', 'DNSRecord', 'web_traffic', 'Page_Rank',\n",
       "       'Google_Index', 'Links_pointing_to_page', 'Statistical_report',\n",
       "       'Result'],\n",
       "      dtype='object')"
      ]
     },
     "execution_count": 112,
     "metadata": {
      "tags": []
     },
     "output_type": "execute_result"
    }
   ],
   "source": [
    "data.columns"
   ]
  },
  {
   "cell_type": "code",
   "execution_count": 113,
   "metadata": {
    "colab": {
     "base_uri": "https://localhost:8080/"
    },
    "id": "Z1uXk0RpldGL",
    "outputId": "8dc16b3b-27a0-4625-dee2-156a822ad898"
   },
   "outputs": [
    {
     "name": "stdout",
     "output_type": "stream",
     "text": [
      "having_IP_Address [-1  1]\n",
      "URL_Length [ 1  0 -1]\n",
      "Shortining_Service [ 1 -1]\n",
      "having_At_Symbol [ 1 -1]\n",
      "double_slash_redirecting [-1  1]\n",
      "Prefix_Suffix [-1  1]\n",
      "having_Sub_Domain [-1  0  1]\n",
      "SSLfinal_State [-1  1  0]\n",
      "Domain_registeration_length [-1  1]\n",
      "Favicon [ 1 -1]\n",
      "port [ 1 -1]\n",
      "HTTPS_token [-1  1]\n",
      "Request_URL [ 1 -1]\n",
      "URL_of_Anchor [-1  0  1]\n",
      "Links_in_tags [ 1 -1  0]\n",
      "SFH [-1  1  0]\n",
      "Submitting_to_email [-1  1]\n",
      "Abnormal_URL [-1  1]\n",
      "Redirect [0 1]\n",
      "on_mouseover [ 1 -1]\n",
      "RightClick [ 1 -1]\n",
      "popUpWidnow [ 1 -1]\n",
      "Iframe [ 1 -1]\n",
      "age_of_domain [-1  1]\n",
      "DNSRecord [-1  1]\n",
      "web_traffic [-1  0  1]\n",
      "Page_Rank [-1  1]\n",
      "Google_Index [ 1 -1]\n",
      "Links_pointing_to_page [ 1  0 -1]\n",
      "Statistical_report [-1  1]\n",
      "Result [-1  1]\n"
     ]
    }
   ],
   "source": [
    "#Unique values for each columns\n",
    "col=data.columns\n",
    "for i in col:\n",
    "     if  i!='index':\n",
    "        print(i,data[i].unique())"
   ]
  },
  {
   "cell_type": "code",
   "execution_count": 114,
   "metadata": {
    "colab": {
     "base_uri": "https://localhost:8080/"
    },
    "id": "JoUFBVrxldGM",
    "outputId": "4ce55ef1-456c-4167-a2e4-a7c5a97bccd5"
   },
   "outputs": [
    {
     "name": "stdout",
     "output_type": "stream",
     "text": [
      "       having_IP_Address    URL_Length  ...  Statistical_report        Result\n",
      "count       11055.000000  11055.000000  ...        11055.000000  11055.000000\n",
      "mean            0.313795     -0.633198  ...            0.719584      0.113885\n",
      "std             0.949534      0.766095  ...            0.694437      0.993539\n",
      "min            -1.000000     -1.000000  ...           -1.000000     -1.000000\n",
      "25%            -1.000000     -1.000000  ...            1.000000     -1.000000\n",
      "50%             1.000000     -1.000000  ...            1.000000      1.000000\n",
      "75%             1.000000     -1.000000  ...            1.000000      1.000000\n",
      "max             1.000000      1.000000  ...            1.000000      1.000000\n",
      "\n",
      "[8 rows x 31 columns]\n"
     ]
    }
   ],
   "source": [
    "print(data.describe())"
   ]
  },
  {
   "cell_type": "code",
   "execution_count": 115,
   "metadata": {
    "colab": {
     "base_uri": "https://localhost:8080/",
     "height": 556
    },
    "id": "cuuKgV-FldGO",
    "outputId": "0899bc11-66a3-425c-a095-6bb6c96cfdb4"
   },
   "outputs": [
    {
     "data": {
      "text/plain": [
       "(array([4898.,    0.,    0.,    0.,    0.,    0.,    0.,    0.,    0.,\n",
       "        6157.]),\n",
       " array([-1. , -0.8, -0.6, -0.4, -0.2,  0. ,  0.2,  0.4,  0.6,  0.8,  1. ]),\n",
       " <a list of 10 Patch objects>)"
      ]
     },
     "execution_count": 115,
     "metadata": {
      "tags": []
     },
     "output_type": "execute_result"
    },
    {
     "data": {
      "image/png": "[encoded data removed]",
      "text/plain": [
       "<Figure size 576x576 with 1 Axes>"
      ]
     },
     "metadata": {
      "tags": []
     },
     "output_type": "display_data"
    }
   ],
   "source": [
    "# Plot distribution of classes using Histograms\n",
    "import matplotlib.pyplot as plt\n",
    "\n",
    "plt.figure(figsize =(8,8))\n",
    "plt.hist(data.Result)           \n",
    "\n",
    "# It shows that benign class have about 1000+ observations than malware"
   ]
  },
  {
   "cell_type": "code",
   "execution_count": 116,
   "metadata": {
    "colab": {
     "base_uri": "https://localhost:8080/"
    },
    "id": "Rg1hFxf2ldGP",
    "outputId": "ca94db42-3959-4b6d-9cf2-0f5caecfcd0c"
   },
   "outputs": [
    {
     "data": {
      "text/plain": [
       "[(1, 6157), (-1, 4898)]"
      ]
     },
     "execution_count": 116,
     "metadata": {
      "tags": []
     },
     "output_type": "execute_result"
    }
   ],
   "source": [
    "from collections import Counter\n",
    "\n",
    "classes = Counter(data['Result'].values)\n",
    "classes.most_common()"
   ]
  },
  {
   "cell_type": "code",
   "execution_count": 117,
   "metadata": {
    "colab": {
     "base_uri": "https://localhost:8080/",
     "height": 112
    },
    "id": "czd_UaAEldGP",
    "outputId": "e87ad176-6a00-4e54-8d7c-8034af450b78"
   },
   "outputs": [
    {
     "data": {
      "text/html": [
       "<div>\n",
       "<style scoped>\n",
       "    .dataframe tbody tr th:only-of-type {\n",
       "        vertical-align: middle;\n",
       "    }\n",
       "\n",
       "    .dataframe tbody tr th {\n",
       "        vertical-align: top;\n",
       "    }\n",
       "\n",
       "    .dataframe thead th {\n",
       "        text-align: right;\n",
       "    }\n",
       "</style>\n",
       "<table border=\"1\" class=\"dataframe\">\n",
       "  <thead>\n",
       "    <tr style=\"text-align: right;\">\n",
       "      <th></th>\n",
       "      <th>Class</th>\n",
       "      <th>Num_Observations</th>\n",
       "    </tr>\n",
       "  </thead>\n",
       "  <tbody>\n",
       "    <tr>\n",
       "      <th>0</th>\n",
       "      <td>1</td>\n",
       "      <td>6157</td>\n",
       "    </tr>\n",
       "    <tr>\n",
       "      <th>1</th>\n",
       "      <td>-1</td>\n",
       "      <td>4898</td>\n",
       "    </tr>\n",
       "  </tbody>\n",
       "</table>\n",
       "</div>"
      ],
      "text/plain": [
       "   Class  Num_Observations\n",
       "0      1              6157\n",
       "1     -1              4898"
      ]
     },
     "execution_count": 117,
     "metadata": {
      "tags": []
     },
     "output_type": "execute_result"
    }
   ],
   "source": [
    "class_dist = pd.DataFrame(classes.most_common(), columns=['Class', 'Num_Observations'])\n",
    "class_dist"
   ]
  },
  {
   "cell_type": "code",
   "execution_count": 118,
   "metadata": {
    "colab": {
     "base_uri": "https://localhost:8080/",
     "height": 519
    },
    "id": "wIqpWio5ldGQ",
    "outputId": "057a0026-fe3f-44b3-9a8b-10757f95af85"
   },
   "outputs": [
    {
     "data": {
      "image/png": "[encoded data removed]",
      "text/plain": [
       "<Figure size 720x576 with 1 Axes>"
      ]
     },
     "metadata": {
      "tags": []
     },
     "output_type": "display_data"
    }
   ],
   "source": [
    "import matplotlib.pyplot as plt\n",
    "%matplotlib inline\n",
    "plt.style.use('ggplot')\n",
    "\n",
    "subplot = class_dist.groupby('Class')['Num_Observations'].sum().plot(kind='barh', width=0.2, figsize=(10,8))\n",
    "\n",
    "subplot.set_title('Class distribution of the websites', fontsize = 15)\n",
    "subplot.set_xlabel('Number of Observations', fontsize = 14)\n",
    "subplot.set_ylabel('Class', fontsize = 14)\n",
    "\n",
    "for i in subplot.patches:\n",
    "    subplot.text(i.get_width()+0.1, i.get_y()+0.1, \\\n",
    "            str(i.get_width()), fontsize=11)"
   ]
  },
  {
   "cell_type": "code",
   "execution_count": 119,
   "metadata": {
    "colab": {
     "base_uri": "https://localhost:8080/",
     "height": 1000
    },
    "id": "26nhvIweldGT",
    "outputId": "f249c85f-332c-4b02-a4fa-7fc43f24fe7b",
    "scrolled": false
   },
   "outputs": [
    {
     "data": {
      "text/html": [
       "<div>\n",
       "<style scoped>\n",
       "    .dataframe tbody tr th:only-of-type {\n",
       "        vertical-align: middle;\n",
       "    }\n",
       "\n",
       "    .dataframe tbody tr th {\n",
       "        vertical-align: top;\n",
       "    }\n",
       "\n",
       "    .dataframe thead th {\n",
       "        text-align: right;\n",
       "    }\n",
       "</style>\n",
       "<table border=\"1\" class=\"dataframe\">\n",
       "  <thead>\n",
       "    <tr style=\"text-align: right;\">\n",
       "      <th></th>\n",
       "      <th>count</th>\n",
       "      <th>mean</th>\n",
       "      <th>std</th>\n",
       "      <th>min</th>\n",
       "      <th>25%</th>\n",
       "      <th>50%</th>\n",
       "      <th>75%</th>\n",
       "      <th>max</th>\n",
       "    </tr>\n",
       "  </thead>\n",
       "  <tbody>\n",
       "    <tr>\n",
       "      <th>having_IP_Address</th>\n",
       "      <td>11055.0</td>\n",
       "      <td>0.313795</td>\n",
       "      <td>0.949534</td>\n",
       "      <td>-1.0</td>\n",
       "      <td>-1.0</td>\n",
       "      <td>1.0</td>\n",
       "      <td>1.0</td>\n",
       "      <td>1.0</td>\n",
       "    </tr>\n",
       "    <tr>\n",
       "      <th>URL_Length</th>\n",
       "      <td>11055.0</td>\n",
       "      <td>-0.633198</td>\n",
       "      <td>0.766095</td>\n",
       "      <td>-1.0</td>\n",
       "      <td>-1.0</td>\n",
       "      <td>-1.0</td>\n",
       "      <td>-1.0</td>\n",
       "      <td>1.0</td>\n",
       "    </tr>\n",
       "    <tr>\n",
       "      <th>Shortining_Service</th>\n",
       "      <td>11055.0</td>\n",
       "      <td>0.738761</td>\n",
       "      <td>0.673998</td>\n",
       "      <td>-1.0</td>\n",
       "      <td>1.0</td>\n",
       "      <td>1.0</td>\n",
       "      <td>1.0</td>\n",
       "      <td>1.0</td>\n",
       "    </tr>\n",
       "    <tr>\n",
       "      <th>having_At_Symbol</th>\n",
       "      <td>11055.0</td>\n",
       "      <td>0.700588</td>\n",
       "      <td>0.713598</td>\n",
       "      <td>-1.0</td>\n",
       "      <td>1.0</td>\n",
       "      <td>1.0</td>\n",
       "      <td>1.0</td>\n",
       "      <td>1.0</td>\n",
       "    </tr>\n",
       "    <tr>\n",
       "      <th>double_slash_redirecting</th>\n",
       "      <td>11055.0</td>\n",
       "      <td>0.741474</td>\n",
       "      <td>0.671011</td>\n",
       "      <td>-1.0</td>\n",
       "      <td>1.0</td>\n",
       "      <td>1.0</td>\n",
       "      <td>1.0</td>\n",
       "      <td>1.0</td>\n",
       "    </tr>\n",
       "    <tr>\n",
       "      <th>Prefix_Suffix</th>\n",
       "      <td>11055.0</td>\n",
       "      <td>-0.734962</td>\n",
       "      <td>0.678139</td>\n",
       "      <td>-1.0</td>\n",
       "      <td>-1.0</td>\n",
       "      <td>-1.0</td>\n",
       "      <td>-1.0</td>\n",
       "      <td>1.0</td>\n",
       "    </tr>\n",
       "    <tr>\n",
       "      <th>having_Sub_Domain</th>\n",
       "      <td>11055.0</td>\n",
       "      <td>0.063953</td>\n",
       "      <td>0.817518</td>\n",
       "      <td>-1.0</td>\n",
       "      <td>-1.0</td>\n",
       "      <td>0.0</td>\n",
       "      <td>1.0</td>\n",
       "      <td>1.0</td>\n",
       "    </tr>\n",
       "    <tr>\n",
       "      <th>SSLfinal_State</th>\n",
       "      <td>11055.0</td>\n",
       "      <td>0.250927</td>\n",
       "      <td>0.911892</td>\n",
       "      <td>-1.0</td>\n",
       "      <td>-1.0</td>\n",
       "      <td>1.0</td>\n",
       "      <td>1.0</td>\n",
       "      <td>1.0</td>\n",
       "    </tr>\n",
       "    <tr>\n",
       "      <th>Domain_registeration_length</th>\n",
       "      <td>11055.0</td>\n",
       "      <td>-0.336771</td>\n",
       "      <td>0.941629</td>\n",
       "      <td>-1.0</td>\n",
       "      <td>-1.0</td>\n",
       "      <td>-1.0</td>\n",
       "      <td>1.0</td>\n",
       "      <td>1.0</td>\n",
       "    </tr>\n",
       "    <tr>\n",
       "      <th>Favicon</th>\n",
       "      <td>11055.0</td>\n",
       "      <td>0.628584</td>\n",
       "      <td>0.777777</td>\n",
       "      <td>-1.0</td>\n",
       "      <td>1.0</td>\n",
       "      <td>1.0</td>\n",
       "      <td>1.0</td>\n",
       "      <td>1.0</td>\n",
       "    </tr>\n",
       "    <tr>\n",
       "      <th>port</th>\n",
       "      <td>11055.0</td>\n",
       "      <td>0.728268</td>\n",
       "      <td>0.685324</td>\n",
       "      <td>-1.0</td>\n",
       "      <td>1.0</td>\n",
       "      <td>1.0</td>\n",
       "      <td>1.0</td>\n",
       "      <td>1.0</td>\n",
       "    </tr>\n",
       "    <tr>\n",
       "      <th>HTTPS_token</th>\n",
       "      <td>11055.0</td>\n",
       "      <td>0.675079</td>\n",
       "      <td>0.737779</td>\n",
       "      <td>-1.0</td>\n",
       "      <td>1.0</td>\n",
       "      <td>1.0</td>\n",
       "      <td>1.0</td>\n",
       "      <td>1.0</td>\n",
       "    </tr>\n",
       "    <tr>\n",
       "      <th>Request_URL</th>\n",
       "      <td>11055.0</td>\n",
       "      <td>0.186793</td>\n",
       "      <td>0.982444</td>\n",
       "      <td>-1.0</td>\n",
       "      <td>-1.0</td>\n",
       "      <td>1.0</td>\n",
       "      <td>1.0</td>\n",
       "      <td>1.0</td>\n",
       "    </tr>\n",
       "    <tr>\n",
       "      <th>URL_of_Anchor</th>\n",
       "      <td>11055.0</td>\n",
       "      <td>-0.076526</td>\n",
       "      <td>0.715138</td>\n",
       "      <td>-1.0</td>\n",
       "      <td>-1.0</td>\n",
       "      <td>0.0</td>\n",
       "      <td>0.0</td>\n",
       "      <td>1.0</td>\n",
       "    </tr>\n",
       "    <tr>\n",
       "      <th>Links_in_tags</th>\n",
       "      <td>11055.0</td>\n",
       "      <td>-0.118137</td>\n",
       "      <td>0.763973</td>\n",
       "      <td>-1.0</td>\n",
       "      <td>-1.0</td>\n",
       "      <td>0.0</td>\n",
       "      <td>0.0</td>\n",
       "      <td>1.0</td>\n",
       "    </tr>\n",
       "    <tr>\n",
       "      <th>SFH</th>\n",
       "      <td>11055.0</td>\n",
       "      <td>-0.595749</td>\n",
       "      <td>0.759143</td>\n",
       "      <td>-1.0</td>\n",
       "      <td>-1.0</td>\n",
       "      <td>-1.0</td>\n",
       "      <td>-1.0</td>\n",
       "      <td>1.0</td>\n",
       "    </tr>\n",
       "    <tr>\n",
       "      <th>Submitting_to_email</th>\n",
       "      <td>11055.0</td>\n",
       "      <td>0.635640</td>\n",
       "      <td>0.772021</td>\n",
       "      <td>-1.0</td>\n",
       "      <td>1.0</td>\n",
       "      <td>1.0</td>\n",
       "      <td>1.0</td>\n",
       "      <td>1.0</td>\n",
       "    </tr>\n",
       "    <tr>\n",
       "      <th>Abnormal_URL</th>\n",
       "      <td>11055.0</td>\n",
       "      <td>0.705292</td>\n",
       "      <td>0.708949</td>\n",
       "      <td>-1.0</td>\n",
       "      <td>1.0</td>\n",
       "      <td>1.0</td>\n",
       "      <td>1.0</td>\n",
       "      <td>1.0</td>\n",
       "    </tr>\n",
       "    <tr>\n",
       "      <th>Redirect</th>\n",
       "      <td>11055.0</td>\n",
       "      <td>0.115694</td>\n",
       "      <td>0.319872</td>\n",
       "      <td>0.0</td>\n",
       "      <td>0.0</td>\n",
       "      <td>0.0</td>\n",
       "      <td>0.0</td>\n",
       "      <td>1.0</td>\n",
       "    </tr>\n",
       "    <tr>\n",
       "      <th>on_mouseover</th>\n",
       "      <td>11055.0</td>\n",
       "      <td>0.762099</td>\n",
       "      <td>0.647490</td>\n",
       "      <td>-1.0</td>\n",
       "      <td>1.0</td>\n",
       "      <td>1.0</td>\n",
       "      <td>1.0</td>\n",
       "      <td>1.0</td>\n",
       "    </tr>\n",
       "    <tr>\n",
       "      <th>RightClick</th>\n",
       "      <td>11055.0</td>\n",
       "      <td>0.913885</td>\n",
       "      <td>0.405991</td>\n",
       "      <td>-1.0</td>\n",
       "      <td>1.0</td>\n",
       "      <td>1.0</td>\n",
       "      <td>1.0</td>\n",
       "      <td>1.0</td>\n",
       "    </tr>\n",
       "    <tr>\n",
       "      <th>popUpWidnow</th>\n",
       "      <td>11055.0</td>\n",
       "      <td>0.613388</td>\n",
       "      <td>0.789818</td>\n",
       "      <td>-1.0</td>\n",
       "      <td>1.0</td>\n",
       "      <td>1.0</td>\n",
       "      <td>1.0</td>\n",
       "      <td>1.0</td>\n",
       "    </tr>\n",
       "    <tr>\n",
       "      <th>Iframe</th>\n",
       "      <td>11055.0</td>\n",
       "      <td>0.816915</td>\n",
       "      <td>0.576784</td>\n",
       "      <td>-1.0</td>\n",
       "      <td>1.0</td>\n",
       "      <td>1.0</td>\n",
       "      <td>1.0</td>\n",
       "      <td>1.0</td>\n",
       "    </tr>\n",
       "    <tr>\n",
       "      <th>age_of_domain</th>\n",
       "      <td>11055.0</td>\n",
       "      <td>0.061239</td>\n",
       "      <td>0.998168</td>\n",
       "      <td>-1.0</td>\n",
       "      <td>-1.0</td>\n",
       "      <td>1.0</td>\n",
       "      <td>1.0</td>\n",
       "      <td>1.0</td>\n",
       "    </tr>\n",
       "    <tr>\n",
       "      <th>DNSRecord</th>\n",
       "      <td>11055.0</td>\n",
       "      <td>0.377114</td>\n",
       "      <td>0.926209</td>\n",
       "      <td>-1.0</td>\n",
       "      <td>-1.0</td>\n",
       "      <td>1.0</td>\n",
       "      <td>1.0</td>\n",
       "      <td>1.0</td>\n",
       "    </tr>\n",
       "    <tr>\n",
       "      <th>web_traffic</th>\n",
       "      <td>11055.0</td>\n",
       "      <td>0.287291</td>\n",
       "      <td>0.827733</td>\n",
       "      <td>-1.0</td>\n",
       "      <td>0.0</td>\n",
       "      <td>1.0</td>\n",
       "      <td>1.0</td>\n",
       "      <td>1.0</td>\n",
       "    </tr>\n",
       "    <tr>\n",
       "      <th>Page_Rank</th>\n",
       "      <td>11055.0</td>\n",
       "      <td>-0.483673</td>\n",
       "      <td>0.875289</td>\n",
       "      <td>-1.0</td>\n",
       "      <td>-1.0</td>\n",
       "      <td>-1.0</td>\n",
       "      <td>1.0</td>\n",
       "      <td>1.0</td>\n",
       "    </tr>\n",
       "    <tr>\n",
       "      <th>Google_Index</th>\n",
       "      <td>11055.0</td>\n",
       "      <td>0.721574</td>\n",
       "      <td>0.692369</td>\n",
       "      <td>-1.0</td>\n",
       "      <td>1.0</td>\n",
       "      <td>1.0</td>\n",
       "      <td>1.0</td>\n",
       "      <td>1.0</td>\n",
       "    </tr>\n",
       "    <tr>\n",
       "      <th>Links_pointing_to_page</th>\n",
       "      <td>11055.0</td>\n",
       "      <td>0.344007</td>\n",
       "      <td>0.569944</td>\n",
       "      <td>-1.0</td>\n",
       "      <td>0.0</td>\n",
       "      <td>0.0</td>\n",
       "      <td>1.0</td>\n",
       "      <td>1.0</td>\n",
       "    </tr>\n",
       "    <tr>\n",
       "      <th>Statistical_report</th>\n",
       "      <td>11055.0</td>\n",
       "      <td>0.719584</td>\n",
       "      <td>0.694437</td>\n",
       "      <td>-1.0</td>\n",
       "      <td>1.0</td>\n",
       "      <td>1.0</td>\n",
       "      <td>1.0</td>\n",
       "      <td>1.0</td>\n",
       "    </tr>\n",
       "    <tr>\n",
       "      <th>Result</th>\n",
       "      <td>11055.0</td>\n",
       "      <td>0.113885</td>\n",
       "      <td>0.993539</td>\n",
       "      <td>-1.0</td>\n",
       "      <td>-1.0</td>\n",
       "      <td>1.0</td>\n",
       "      <td>1.0</td>\n",
       "      <td>1.0</td>\n",
       "    </tr>\n",
       "  </tbody>\n",
       "</table>\n",
       "</div>"
      ],
      "text/plain": [
       "                               count      mean       std  ...  50%  75%  max\n",
       "having_IP_Address            11055.0  0.313795  0.949534  ...  1.0  1.0  1.0\n",
       "URL_Length                   11055.0 -0.633198  0.766095  ... -1.0 -1.0  1.0\n",
       "Shortining_Service           11055.0  0.738761  0.673998  ...  1.0  1.0  1.0\n",
       "having_At_Symbol             11055.0  0.700588  0.713598  ...  1.0  1.0  1.0\n",
       "double_slash_redirecting     11055.0  0.741474  0.671011  ...  1.0  1.0  1.0\n",
       "Prefix_Suffix                11055.0 -0.734962  0.678139  ... -1.0 -1.0  1.0\n",
       "having_Sub_Domain            11055.0  0.063953  0.817518  ...  0.0  1.0  1.0\n",
       "SSLfinal_State               11055.0  0.250927  0.911892  ...  1.0  1.0  1.0\n",
       "Domain_registeration_length  11055.0 -0.336771  0.941629  ... -1.0  1.0  1.0\n",
       "Favicon                      11055.0  0.628584  0.777777  ...  1.0  1.0  1.0\n",
       "port                         11055.0  0.728268  0.685324  ...  1.0  1.0  1.0\n",
       "HTTPS_token                  11055.0  0.675079  0.737779  ...  1.0  1.0  1.0\n",
       "Request_URL                  11055.0  0.186793  0.982444  ...  1.0  1.0  1.0\n",
       "URL_of_Anchor                11055.0 -0.076526  0.715138  ...  0.0  0.0  1.0\n",
       "Links_in_tags                11055.0 -0.118137  0.763973  ...  0.0  0.0  1.0\n",
       "SFH                          11055.0 -0.595749  0.759143  ... -1.0 -1.0  1.0\n",
       "Submitting_to_email          11055.0  0.635640  0.772021  ...  1.0  1.0  1.0\n",
       "Abnormal_URL                 11055.0  0.705292  0.708949  ...  1.0  1.0  1.0\n",
       "Redirect                     11055.0  0.115694  0.319872  ...  0.0  0.0  1.0\n",
       "on_mouseover                 11055.0  0.762099  0.647490  ...  1.0  1.0  1.0\n",
       "RightClick                   11055.0  0.913885  0.405991  ...  1.0  1.0  1.0\n",
       "popUpWidnow                  11055.0  0.613388  0.789818  ...  1.0  1.0  1.0\n",
       "Iframe                       11055.0  0.816915  0.576784  ...  1.0  1.0  1.0\n",
       "age_of_domain                11055.0  0.061239  0.998168  ...  1.0  1.0  1.0\n",
       "DNSRecord                    11055.0  0.377114  0.926209  ...  1.0  1.0  1.0\n",
       "web_traffic                  11055.0  0.287291  0.827733  ...  1.0  1.0  1.0\n",
       "Page_Rank                    11055.0 -0.483673  0.875289  ... -1.0  1.0  1.0\n",
       "Google_Index                 11055.0  0.721574  0.692369  ...  1.0  1.0  1.0\n",
       "Links_pointing_to_page       11055.0  0.344007  0.569944  ...  0.0  1.0  1.0\n",
       "Statistical_report           11055.0  0.719584  0.694437  ...  1.0  1.0  1.0\n",
       "Result                       11055.0  0.113885  0.993539  ...  1.0  1.0  1.0\n",
       "\n",
       "[31 rows x 8 columns]"
      ]
     },
     "execution_count": 119,
     "metadata": {
      "tags": []
     },
     "output_type": "execute_result"
    }
   ],
   "source": [
    "data.describe().T"
   ]
  },
  {
   "cell_type": "code",
   "execution_count": 120,
   "metadata": {
    "colab": {
     "base_uri": "https://localhost:8080/"
    },
    "id": "uAmkRNDgldGU",
    "outputId": "62f3fb26-0da9-405f-e99c-d70efd5b9657"
   },
   "outputs": [
    {
     "name": "stdout",
     "output_type": "stream",
     "text": [
      "Domain_registeration_length   -0.225789\n",
      "Shortining_Service            -0.067966\n",
      "Abnormal_URL                  -0.060488\n",
      "HTTPS_token                   -0.039854\n",
      "double_slash_redirecting      -0.038608\n",
      "Redirect                      -0.020113\n",
      "Iframe                        -0.003394\n",
      "Favicon                       -0.000280\n",
      "popUpWidnow                    0.000086\n",
      "RightClick                     0.012653\n",
      "Submitting_to_email            0.018249\n",
      "Links_pointing_to_page         0.032574\n",
      "port                           0.036419\n",
      "on_mouseover                   0.041838\n",
      "having_At_Symbol               0.052948\n",
      "URL_Length                     0.057430\n",
      "DNSRecord                      0.075718\n",
      "Statistical_report             0.079857\n",
      "having_IP_Address              0.094160\n",
      "Page_Rank                      0.104645\n",
      "age_of_domain                  0.121496\n",
      "Google_Index                   0.128950\n",
      "SFH                            0.221419\n",
      "Links_in_tags                  0.248229\n",
      "Request_URL                    0.253372\n",
      "having_Sub_Domain              0.298323\n",
      "web_traffic                    0.346103\n",
      "Prefix_Suffix                  0.348606\n",
      "URL_of_Anchor                  0.692935\n",
      "SSLfinal_State                 0.714741\n",
      "Result                         1.000000\n",
      "Name: Result, dtype: float64\n"
     ]
    }
   ],
   "source": [
    "# Print correlation with target variable\n",
    "print(data.corr()['Result'].sort_values()) "
   ]
  },
  {
   "cell_type": "code",
   "execution_count": 121,
   "metadata": {
    "colab": {
     "base_uri": "https://localhost:8080/",
     "height": 1000
    },
    "id": "yZT3RNB9ldGV",
    "outputId": "57483afe-a93f-430a-8ce0-7a65eae63893"
   },
   "outputs": [
    {
     "data": {
      "text/plain": [
       "<matplotlib.axes._subplots.AxesSubplot at 0x7f86675c8890>"
      ]
     },
     "execution_count": 121,
     "metadata": {
      "tags": []
     },
     "output_type": "execute_result"
    },
    {
     "data": {
      "image/png": "[encoded data removed]",
      "text/plain": [
       "<Figure size 1080x1080 with 2 Axes>"
      ]
     },
     "metadata": {
      "tags": []
     },
     "output_type": "display_data"
    }
   ],
   "source": [
    "import matplotlib.pyplot as plt\n",
    "import seaborn as sns\n",
    "plt.figure(figsize=(15, 15))\n",
    "sns.heatmap(data.corr(), linewidths=.5)"
   ]
  },
  {
   "cell_type": "code",
   "execution_count": 122,
   "metadata": {
    "colab": {
     "base_uri": "https://localhost:8080/"
    },
    "id": "1zhMA1szldGV",
    "outputId": "d31c6ba7-bfb6-4dca-a328-69fa5c2e002b"
   },
   "outputs": [
    {
     "name": "stdout",
     "output_type": "stream",
     "text": [
      "<class 'pandas.core.frame.DataFrame'>\n",
      "RangeIndex: 11055 entries, 0 to 11054\n",
      "Data columns (total 31 columns):\n",
      " #   Column                       Non-Null Count  Dtype\n",
      "---  ------                       --------------  -----\n",
      " 0   having_IP_Address            11055 non-null  int64\n",
      " 1   URL_Length                   11055 non-null  int64\n",
      " 2   Shortining_Service           11055 non-null  int64\n",
      " 3   having_At_Symbol             11055 non-null  int64\n",
      " 4   double_slash_redirecting     11055 non-null  int64\n",
      " 5   Prefix_Suffix                11055 non-null  int64\n",
      " 6   having_Sub_Domain            11055 non-null  int64\n",
      " 7   SSLfinal_State               11055 non-null  int64\n",
      " 8   Domain_registeration_length  11055 non-null  int64\n",
      " 9   Favicon                      11055 non-null  int64\n",
      " 10  port                         11055 non-null  int64\n",
      " 11  HTTPS_token                  11055 non-null  int64\n",
      " 12  Request_URL                  11055 non-null  int64\n",
      " 13  URL_of_Anchor                11055 non-null  int64\n",
      " 14  Links_in_tags                11055 non-null  int64\n",
      " 15  SFH                          11055 non-null  int64\n",
      " 16  Submitting_to_email          11055 non-null  int64\n",
      " 17  Abnormal_URL                 11055 non-null  int64\n",
      " 18  Redirect                     11055 non-null  int64\n",
      " 19  on_mouseover                 11055 non-null  int64\n",
      " 20  RightClick                   11055 non-null  int64\n",
      " 21  popUpWidnow                  11055 non-null  int64\n",
      " 22  Iframe                       11055 non-null  int64\n",
      " 23  age_of_domain                11055 non-null  int64\n",
      " 24  DNSRecord                    11055 non-null  int64\n",
      " 25  web_traffic                  11055 non-null  int64\n",
      " 26  Page_Rank                    11055 non-null  int64\n",
      " 27  Google_Index                 11055 non-null  int64\n",
      " 28  Links_pointing_to_page       11055 non-null  int64\n",
      " 29  Statistical_report           11055 non-null  int64\n",
      " 30  Result                       11055 non-null  int64\n",
      "dtypes: int64(31)\n",
      "memory usage: 2.6 MB\n"
     ]
    }
   ],
   "source": [
    "data.info()"
   ]
  },
  {
   "cell_type": "code",
   "execution_count": 123,
   "metadata": {
    "colab": {
     "base_uri": "https://localhost:8080/"
    },
    "id": "5J5IvgCxldGW",
    "outputId": "f19cb7bb-2c68-42a1-c9b5-5bd6d99bb04f"
   },
   "outputs": [
    {
     "data": {
      "text/plain": [
       "array([0, 1])"
      ]
     },
     "execution_count": 123,
     "metadata": {
      "tags": []
     },
     "output_type": "execute_result"
    }
   ],
   "source": [
    "data.rename(columns={'Result': 'Class'}, inplace=True)\n",
    "\n",
    "data['Class'] = data['Class'].map({-1:0, 1:1})\n",
    "data['Class'].unique()"
   ]
  },
  {
   "cell_type": "code",
   "execution_count": 124,
   "metadata": {
    "colab": {
     "base_uri": "https://localhost:8080/"
    },
    "id": "ot9BTlS1AIYy",
    "outputId": "8819f001-c733-4091-93f4-02b224592f18"
   },
   "outputs": [
    {
     "name": "stdout",
     "output_type": "stream",
     "text": [
      "<class 'pandas.core.frame.DataFrame'>\n",
      "RangeIndex: 11055 entries, 0 to 11054\n",
      "Data columns (total 31 columns):\n",
      " #   Column                       Non-Null Count  Dtype\n",
      "---  ------                       --------------  -----\n",
      " 0   having_IP_Address            11055 non-null  int64\n",
      " 1   URL_Length                   11055 non-null  int64\n",
      " 2   Shortining_Service           11055 non-null  int64\n",
      " 3   having_At_Symbol             11055 non-null  int64\n",
      " 4   double_slash_redirecting     11055 non-null  int64\n",
      " 5   Prefix_Suffix                11055 non-null  int64\n",
      " 6   having_Sub_Domain            11055 non-null  int64\n",
      " 7   SSLfinal_State               11055 non-null  int64\n",
      " 8   Domain_registeration_length  11055 non-null  int64\n",
      " 9   Favicon                      11055 non-null  int64\n",
      " 10  port                         11055 non-null  int64\n",
      " 11  HTTPS_token                  11055 non-null  int64\n",
      " 12  Request_URL                  11055 non-null  int64\n",
      " 13  URL_of_Anchor                11055 non-null  int64\n",
      " 14  Links_in_tags                11055 non-null  int64\n",
      " 15  SFH                          11055 non-null  int64\n",
      " 16  Submitting_to_email          11055 non-null  int64\n",
      " 17  Abnormal_URL                 11055 non-null  int64\n",
      " 18  Redirect                     11055 non-null  int64\n",
      " 19  on_mouseover                 11055 non-null  int64\n",
      " 20  RightClick                   11055 non-null  int64\n",
      " 21  popUpWidnow                  11055 non-null  int64\n",
      " 22  Iframe                       11055 non-null  int64\n",
      " 23  age_of_domain                11055 non-null  int64\n",
      " 24  DNSRecord                    11055 non-null  int64\n",
      " 25  web_traffic                  11055 non-null  int64\n",
      " 26  Page_Rank                    11055 non-null  int64\n",
      " 27  Google_Index                 11055 non-null  int64\n",
      " 28  Links_pointing_to_page       11055 non-null  int64\n",
      " 29  Statistical_report           11055 non-null  int64\n",
      " 30  Class                        11055 non-null  int64\n",
      "dtypes: int64(31)\n",
      "memory usage: 2.6 MB\n"
     ]
    }
   ],
   "source": [
    "data.info()"
   ]
  },
  {
   "cell_type": "code",
   "execution_count": 125,
   "metadata": {
    "colab": {
     "base_uri": "https://localhost:8080/"
    },
    "id": "6HwfMnQVldGW",
    "outputId": "04dae952-cfc1-4b96-8041-b8f0bece48fb"
   },
   "outputs": [
    {
     "data": {
      "text/plain": [
       "having_IP_Address              0\n",
       "URL_Length                     0\n",
       "Shortining_Service             0\n",
       "having_At_Symbol               0\n",
       "double_slash_redirecting       0\n",
       "Prefix_Suffix                  0\n",
       "having_Sub_Domain              0\n",
       "SSLfinal_State                 0\n",
       "Domain_registeration_length    0\n",
       "Favicon                        0\n",
       "port                           0\n",
       "HTTPS_token                    0\n",
       "Request_URL                    0\n",
       "URL_of_Anchor                  0\n",
       "Links_in_tags                  0\n",
       "SFH                            0\n",
       "Submitting_to_email            0\n",
       "Abnormal_URL                   0\n",
       "Redirect                       0\n",
       "on_mouseover                   0\n",
       "RightClick                     0\n",
       "popUpWidnow                    0\n",
       "Iframe                         0\n",
       "age_of_domain                  0\n",
       "DNSRecord                      0\n",
       "web_traffic                    0\n",
       "Page_Rank                      0\n",
       "Google_Index                   0\n",
       "Links_pointing_to_page         0\n",
       "Statistical_report             0\n",
       "Class                          0\n",
       "dtype: int64"
      ]
     },
     "execution_count": 125,
     "metadata": {
      "tags": []
     },
     "output_type": "execute_result"
    }
   ],
   "source": [
    "data.isna().sum()"
   ]
  },
  {
   "cell_type": "code",
   "execution_count": 126,
   "metadata": {
    "id": "bt9WaLqUldGX"
   },
   "outputs": [],
   "source": [
    "from sklearn.model_selection import train_test_split\n",
    "\n",
    "X = data.iloc[:,0:30].values.astype(int)\n",
    "y = data.iloc[:,30].values.astype(int)\n",
    "\n",
    "X_train, X_test, y_train, y_test = train_test_split(X, y, test_size=0.2, random_state=np.random.seed(7))\n",
    "\n"
   ]
  },
  {
   "cell_type": "code",
   "execution_count": 127,
   "metadata": {
    "colab": {
     "base_uri": "https://localhost:8080/"
    },
    "id": "VVauRjHNBTKP",
    "outputId": "542aa3a6-a025-4091-fd6a-7490268018c3"
   },
   "outputs": [
    {
     "data": {
      "text/plain": [
       "array([0, 0, 0, ..., 0, 0, 0])"
      ]
     },
     "execution_count": 127,
     "metadata": {
      "tags": []
     },
     "output_type": "execute_result"
    }
   ],
   "source": [
    "y"
   ]
  },
  {
   "cell_type": "code",
   "execution_count": 128,
   "metadata": {
    "colab": {
     "base_uri": "https://localhost:8080/"
    },
    "id": "W_ZZoxGRnJmB",
    "outputId": "6951f68f-46d8-4db2-c8e7-af63a567acbd"
   },
   "outputs": [
    {
     "data": {
      "text/plain": [
       "GridSearchCV(cv=5, error_score=nan,\n",
       "             estimator=SVC(C=1.0, break_ties=False, cache_size=200,\n",
       "                           class_weight=None, coef0=0.0,\n",
       "                           decision_function_shape='ovr', degree=3,\n",
       "                           gamma='scale', kernel='rbf', max_iter=-1,\n",
       "                           probability=False, random_state=None, shrinking=True,\n",
       "                           tol=0.001, verbose=False),\n",
       "             iid='deprecated', n_jobs=-1,\n",
       "             param_grid=[{'C': [1, 10, 100, 1000],\n",
       "                          'gamma': [0.1, 0.2, 0.3, 0.5]}],\n",
       "             pre_dispatch='2*n_jobs', refit=True, return_train_score=False,\n",
       "             scoring=None, verbose=0)"
      ]
     },
     "execution_count": 128,
     "metadata": {
      "tags": []
     },
     "output_type": "execute_result"
    }
   ],
   "source": [
    "from sklearn.model_selection import GridSearchCV\n",
    "from sklearn.svm import SVC\n",
    "from sklearn.externals import joblib\n",
    "parameters = [{'C':[1, 10, 100, 1000], 'gamma': [ 0.1, 0.2,0.3, 0.5]}]\n",
    "grid_search = GridSearchCV(SVC(kernel='rbf' ),  parameters,cv =5, n_jobs= -1)\n",
    "grid_search.fit(X_train, y_train)"
   ]
  },
  {
   "cell_type": "code",
   "execution_count": 129,
   "metadata": {
    "colab": {
     "base_uri": "https://localhost:8080/"
    },
    "id": "aIHnx1d_nJ5j",
    "outputId": "89d1f6cf-ac86-4635-bd17-e88772ec6215"
   },
   "outputs": [
    {
     "name": "stdout",
     "output_type": "stream",
     "text": [
      "Best Accurancy =0.9650612995556965\n",
      "best parameters ={'C': 100, 'gamma': 0.1}\n"
     ]
    }
   ],
   "source": [
    "#printing best parameters \n",
    "print(\"Best Accurancy =\" +str( grid_search.best_score_))\n",
    "print(\"best parameters =\" + str(grid_search.best_params_)) "
   ]
  },
  {
   "cell_type": "code",
   "execution_count": 130,
   "metadata": {
    "colab": {
     "base_uri": "https://localhost:8080/"
    },
    "id": "POQ5lb_mqmgr",
    "outputId": "e013b029-1f76-431f-cd86-0405c86c9462"
   },
   "outputs": [
    {
     "data": {
      "text/plain": [
       "SVC(C=1000, break_ties=False, cache_size=200, class_weight=None, coef0=0.0,\n",
       "    decision_function_shape='ovr', degree=3, gamma=0.2, kernel='rbf',\n",
       "    max_iter=-1, probability=False, random_state=0, shrinking=True, tol=0.001,\n",
       "    verbose=False)"
      ]
     },
     "execution_count": 130,
     "metadata": {
      "tags": []
     },
     "output_type": "execute_result"
    }
   ],
   "source": [
    "classifier = SVC(C=1000, kernel = 'rbf', gamma = 0.2 , random_state = 0)\n",
    "classifier.fit(X_train, y_train)"
   ]
  },
  {
   "cell_type": "code",
   "execution_count": 131,
   "metadata": {
    "id": "slFaZ0m3qo1C"
   },
   "outputs": [],
   "source": [
    "y_pred = classifier.predict(X_test)\n"
   ]
  },
  {
   "cell_type": "code",
   "execution_count": 132,
   "metadata": {
    "colab": {
     "base_uri": "https://localhost:8080/"
    },
    "id": "Xd1RiW-zqq60",
    "outputId": "264614eb-d306-4364-cf4c-5f153e256019"
   },
   "outputs": [
    {
     "name": "stdout",
     "output_type": "stream",
     "text": [
      "[[ 933   41]\n",
      " [  22 1215]]\n"
     ]
    }
   ],
   "source": [
    "from sklearn.metrics import confusion_matrix\n",
    "from sklearn.metrics import confusion_matrix\n",
    "cm = confusion_matrix(y_test, y_pred)\n",
    "print(cm)\n",
    "\n"
   ]
  },
  {
   "cell_type": "code",
   "execution_count": 133,
   "metadata": {
    "colab": {
     "base_uri": "https://localhost:8080/"
    },
    "id": "7fUuyZtTldGY",
    "outputId": "ea7f55c7-c680-4d9a-cbd4-cd6c788d9415"
   },
   "outputs": [
    {
     "data": {
      "text/plain": [
       "LogisticRegression(C=1.0, class_weight=None, dual=False, fit_intercept=True,\n",
       "                   intercept_scaling=1, l1_ratio=None, max_iter=100,\n",
       "                   multi_class='auto', n_jobs=None, penalty='l2',\n",
       "                   random_state=None, solver='lbfgs', tol=0.0001, verbose=0,\n",
       "                   warm_start=False)"
      ]
     },
     "execution_count": 133,
     "metadata": {
      "tags": []
     },
     "output_type": "execute_result"
    }
   ],
   "source": [
    "from sklearn.linear_model import LogisticRegression\n",
    "\n",
    "logreg = LogisticRegression()\n",
    "logreg.fit(X_train, y_train)"
   ]
  },
  {
   "cell_type": "code",
   "execution_count": 134,
   "metadata": {
    "colab": {
     "base_uri": "https://localhost:8080/"
    },
    "id": "n076ZwcyldGY",
    "outputId": "1f60ce09-decd-4354-882c-1237804d9f26"
   },
   "outputs": [
    {
     "name": "stdout",
     "output_type": "stream",
     "text": [
      "Accuracy score of the Logistic Regression classifier with default hyperparameter values 93.71%\n",
      "\n",
      "\n",
      "----Classification report of the Logistic Regression classifier with default hyperparameter value----\n",
      "\n",
      "\n",
      "                   precision    recall  f1-score   support\n",
      "\n",
      "Phishing Websites       0.94      0.92      0.93       974\n",
      "  Normal Websites       0.94      0.95      0.94      1237\n",
      "\n",
      "         accuracy                           0.94      2211\n",
      "        macro avg       0.94      0.94      0.94      2211\n",
      "     weighted avg       0.94      0.94      0.94      2211\n",
      "\n"
     ]
    }
   ],
   "source": [
    "from sklearn.metrics import accuracy_score, classification_report\n",
    "\n",
    "print('Accuracy score of the Logistic Regression classifier with default hyperparameter values {0:.2f}%'.format(accuracy_score(y_test, logreg.predict(X_test))*100.))\n",
    "print('\\n')\n",
    "print('----Classification report of the Logistic Regression classifier with default hyperparameter value----')\n",
    "print('\\n')\n",
    "print(classification_report(y_test, logreg.predict(X_test), target_names=['Phishing Websites', 'Normal Websites']))"
   ]
  },
  {
   "cell_type": "code",
   "execution_count": 135,
   "metadata": {
    "id": "qyiyKZNJrfuU"
   },
   "outputs": [],
   "source": [
    "y_pred = logreg.predict(X_test)\n"
   ]
  },
  {
   "cell_type": "code",
   "execution_count": 136,
   "metadata": {
    "colab": {
     "base_uri": "https://localhost:8080/"
    },
    "id": "uPm1lwxWrjtz",
    "outputId": "f3b4c54f-2cec-4533-89fb-f7f24cd9104e"
   },
   "outputs": [
    {
     "name": "stdout",
     "output_type": "stream",
     "text": [
      "[[ 896   78]\n",
      " [  61 1176]]\n"
     ]
    }
   ],
   "source": [
    "from sklearn.metrics import confusion_matrix\n",
    "cm = confusion_matrix(y_test, y_pred)\n",
    "print(cm)"
   ]
  },
  {
   "cell_type": "code",
   "execution_count": 137,
   "metadata": {
    "id": "ZEln6qt8ldGZ"
   },
   "outputs": [],
   "source": [
    "from sklearn.model_selection import RandomizedSearchCV\n",
    "\n",
    "penalty = ['l1', 'l2']\n",
    "C = [0.8, 0.9, 1.0]\n",
    "tol = [0.01, 0.001 ,0.0001]\n",
    "max_iter = [100, 150, 200, 250]\n",
    "\n",
    "param_grid = dict(penalty=penalty, C=C, tol=tol, max_iter=max_iter)"
   ]
  },
  {
   "cell_type": "code",
   "execution_count": 138,
   "metadata": {
    "colab": {
     "base_uri": "https://localhost:8080/"
    },
    "id": "7lipQf5TldGZ",
    "outputId": "f429ac8a-1c76-41b8-b19c-72e96bb34f81"
   },
   "outputs": [
    {
     "name": "stdout",
     "output_type": "stream",
     "text": [
      "Best score: 92.41 using {'tol': 0.01, 'penalty': 'l2', 'max_iter': 100, 'C': 0.9}\n"
     ]
    }
   ],
   "source": [
    "random_model = RandomizedSearchCV(estimator=logreg, param_distributions=param_grid, cv=5)\n",
    "\n",
    "random_model_result = random_model.fit(X_train, y_train)\n",
    "\n",
    "best_score, best_params = random_model_result.best_score_, random_model_result.best_params_\n",
    "print(\"Best score: %.2f using %s\" % (best_score*100., best_params))"
   ]
  },
  {
   "cell_type": "code",
   "execution_count": 139,
   "metadata": {
    "id": "GzDEfRARufDl"
   },
   "outputs": [],
   "source": [
    "from sklearn.model_selection import GridSearchCV\n",
    "from sklearn.ensemble import RandomForestClassifier\n",
    "parameters = [{'n_estimators': [100, 700],\n",
    "    'max_features': ['sqrt', 'log2'],\n",
    "    'criterion' :['gini', 'entropy']}]"
   ]
  },
  {
   "cell_type": "code",
   "execution_count": 140,
   "metadata": {
    "colab": {
     "base_uri": "https://localhost:8080/"
    },
    "id": "IxLuGa8HufM9",
    "outputId": "d5645192-8fa3-4e51-b61d-00cb148fe8df"
   },
   "outputs": [
    {
     "name": "stdout",
     "output_type": "stream",
     "text": [
      "Best Accurancy =0.9675486205336951\n",
      "best parameters ={'criterion': 'entropy', 'max_features': 'log2', 'n_estimators': 700}\n"
     ]
    }
   ],
   "source": [
    "grid_search = GridSearchCV(RandomForestClassifier(),  parameters,cv =3, n_jobs= -1)\n",
    "grid_search.fit(X_train, y_train)\n",
    "#printing best parameters \n",
    "print(\"Best Accurancy =\" +str( grid_search.best_score_))\n",
    "print(\"best parameters =\" + str(grid_search.best_params_))"
   ]
  },
  {
   "cell_type": "code",
   "execution_count": 141,
   "metadata": {
    "colab": {
     "base_uri": "https://localhost:8080/"
    },
    "id": "vjAbLJkGIvHA",
    "outputId": "949bda1d-26a3-40ad-d469-88b7f2d88ce4"
   },
   "outputs": [
    {
     "name": "stdout",
     "output_type": "stream",
     "text": [
      "[[ 896   78]\n",
      " [  61 1176]]\n"
     ]
    }
   ],
   "source": [
    "from sklearn.metrics import confusion_matrix\n",
    "cm = confusion_matrix(y_test, y_pred)\n",
    "print(cm)"
   ]
  },
  {
   "cell_type": "code",
   "execution_count": 142,
   "metadata": {
    "colab": {
     "base_uri": "https://localhost:8080/"
    },
    "id": "O5um5aYvu8pg",
    "outputId": "692ad402-9786-4c95-bec2-5c398fc084cc"
   },
   "outputs": [
    {
     "data": {
      "text/plain": [
       "RandomForestClassifier(bootstrap=True, ccp_alpha=0.0, class_weight=None,\n",
       "                       criterion='gini', max_depth=None, max_features='log2',\n",
       "                       max_leaf_nodes=None, max_samples=None,\n",
       "                       min_impurity_decrease=0.0, min_impurity_split=None,\n",
       "                       min_samples_leaf=1, min_samples_split=2,\n",
       "                       min_weight_fraction_leaf=0.0, n_estimators=100,\n",
       "                       n_jobs=None, oob_score=False, random_state=0, verbose=0,\n",
       "                       warm_start=False)"
      ]
     },
     "execution_count": 142,
     "metadata": {
      "tags": []
     },
     "output_type": "execute_result"
    }
   ],
   "source": [
    "classifier = RandomForestClassifier(n_estimators = 100, criterion = \"gini\", max_features = 'log2',  random_state = 0)\n",
    "classifier.fit(X_train, y_train)\n",
    "\n"
   ]
  },
  {
   "cell_type": "code",
   "execution_count": 143,
   "metadata": {
    "colab": {
     "base_uri": "https://localhost:8080/"
    },
    "id": "4iT_eVP2u95I",
    "outputId": "6a288be9-d421-4e70-dcd7-7e0a491a6f3f"
   },
   "outputs": [
    {
     "name": "stdout",
     "output_type": "stream",
     "text": [
      "[[ 942   32]\n",
      " [  22 1215]]\n"
     ]
    }
   ],
   "source": [
    "#predicting the tests set result\n",
    "y_pred = classifier.predict(X_test)\n",
    "\n",
    "#confusion matrix\n",
    "from sklearn.metrics import confusion_matrix\n",
    "cm = confusion_matrix(y_test, y_pred)\n",
    "print(cm)"
   ]
  },
  {
   "cell_type": "code",
   "execution_count": 144,
   "metadata": {
    "id": "bSD6hfHRldGb"
   },
   "outputs": [],
   "source": [
    "from keras.models import Sequential\n",
    "from keras.layers import Dense\n",
    "from keras.optimizers import *\n",
    "from keras.layers import Dropout\n",
    "from numpy.random import seed\n",
    "from numpy.random import seed\n",
    "seed(1)\n"
   ]
  },
  {
   "cell_type": "code",
   "execution_count": 145,
   "metadata": {
    "id": "JYz7Kl_PldGb"
   },
   "outputs": [],
   "source": [
    "model = Sequential()\n",
    "\n",
    "model.add(Dense(40, activation='relu',\n",
    "          kernel_initializer='uniform',input_dim=X.shape[1]))\n",
    "model.add(Dropout(0.3))\n",
    "model.add(Dense(30, activation='relu',\n",
    "          kernel_initializer='uniform'))\n",
    "model.add(Dropout(0.4))\n",
    "model.add(Dense(1,  activation='sigmoid', \n",
    "          kernel_initializer='uniform'))\n",
    "\n",
    "model.compile(loss='binary_crossentropy', optimizer=Adam(), metrics=['accuracy'])"
   ]
  },
  {
   "cell_type": "code",
   "execution_count": 146,
   "metadata": {
    "colab": {
     "base_uri": "https://localhost:8080/"
    },
    "id": "TqTbXG00ldGb",
    "outputId": "943c2d38-2331-48cb-ad5b-3bfb2dd0a346"
   },
   "outputs": [
    {
     "name": "stdout",
     "output_type": "stream",
     "text": [
      "Model: \"sequential_10\"\n",
      "_________________________________________________________________\n",
      "Layer (type)                 Output Shape              Param #   \n",
      "=================================================================\n",
      "dense_30 (Dense)             (None, 40)                1240      \n",
      "_________________________________________________________________\n",
      "dropout_20 (Dropout)         (None, 40)                0         \n",
      "_________________________________________________________________\n",
      "dense_31 (Dense)             (None, 30)                1230      \n",
      "_________________________________________________________________\n",
      "dropout_21 (Dropout)         (None, 30)                0         \n",
      "_________________________________________________________________\n",
      "dense_32 (Dense)             (None, 1)                 31        \n",
      "=================================================================\n",
      "Total params: 2,501\n",
      "Trainable params: 2,501\n",
      "Non-trainable params: 0\n",
      "_________________________________________________________________\n"
     ]
    }
   ],
   "source": [
    "model.summary()"
   ]
  },
  {
   "cell_type": "code",
   "execution_count": 147,
   "metadata": {
    "id": "sjIekDBtldGb"
   },
   "outputs": [],
   "source": [
    "from keras import callbacks\n",
    "\n",
    "es_cb = callbacks.EarlyStopping(monitor='loss', min_delta=0.001, patience=5)\n"
   ]
  },
  {
   "cell_type": "code",
   "execution_count": 148,
   "metadata": {
    "colab": {
     "base_uri": "https://localhost:8080/"
    },
    "id": "fW68K5WIB7_u",
    "outputId": "3678febf-e66a-43e3-a75a-b7680f1d1864"
   },
   "outputs": [
    {
     "name": "stdout",
     "output_type": "stream",
     "text": [
      "Epoch 1/100\n",
      "277/277 [==============================] - 1s 2ms/step - loss: 0.5118 - accuracy: 0.7300\n",
      "Epoch 2/100\n",
      "277/277 [==============================] - 0s 2ms/step - loss: 0.2200 - accuracy: 0.9189\n",
      "Epoch 3/100\n",
      "277/277 [==============================] - 0s 2ms/step - loss: 0.1952 - accuracy: 0.9289\n",
      "Epoch 4/100\n",
      "277/277 [==============================] - 0s 2ms/step - loss: 0.1776 - accuracy: 0.9310\n",
      "Epoch 5/100\n",
      "277/277 [==============================] - 0s 2ms/step - loss: 0.1771 - accuracy: 0.9325\n",
      "Epoch 6/100\n",
      "277/277 [==============================] - 0s 2ms/step - loss: 0.1715 - accuracy: 0.9348\n",
      "Epoch 7/100\n",
      "277/277 [==============================] - 0s 2ms/step - loss: 0.1635 - accuracy: 0.9377\n",
      "Epoch 8/100\n",
      "277/277 [==============================] - 0s 2ms/step - loss: 0.1627 - accuracy: 0.9353\n",
      "Epoch 9/100\n",
      "277/277 [==============================] - 0s 2ms/step - loss: 0.1501 - accuracy: 0.9402\n",
      "Epoch 10/100\n",
      "277/277 [==============================] - 0s 2ms/step - loss: 0.1419 - accuracy: 0.9437\n",
      "Epoch 11/100\n",
      "277/277 [==============================] - 0s 2ms/step - loss: 0.1484 - accuracy: 0.9380\n",
      "Epoch 12/100\n",
      "277/277 [==============================] - 0s 2ms/step - loss: 0.1304 - accuracy: 0.9487\n",
      "Epoch 13/100\n",
      "277/277 [==============================] - 0s 2ms/step - loss: 0.1417 - accuracy: 0.9441\n",
      "Epoch 14/100\n",
      "277/277 [==============================] - 0s 2ms/step - loss: 0.1332 - accuracy: 0.9461\n",
      "Epoch 15/100\n",
      "277/277 [==============================] - 0s 2ms/step - loss: 0.1347 - accuracy: 0.9456\n",
      "Epoch 16/100\n",
      "277/277 [==============================] - 0s 2ms/step - loss: 0.1180 - accuracy: 0.9540\n",
      "Epoch 17/100\n",
      "277/277 [==============================] - 0s 2ms/step - loss: 0.1156 - accuracy: 0.9554\n",
      "Epoch 18/100\n",
      "277/277 [==============================] - 0s 2ms/step - loss: 0.1169 - accuracy: 0.9504\n",
      "Epoch 19/100\n",
      "277/277 [==============================] - 0s 2ms/step - loss: 0.1163 - accuracy: 0.9530\n",
      "Epoch 20/100\n",
      "277/277 [==============================] - 0s 2ms/step - loss: 0.1150 - accuracy: 0.9528\n",
      "Epoch 21/100\n",
      "277/277 [==============================] - 0s 2ms/step - loss: 0.1177 - accuracy: 0.9490\n",
      "Epoch 22/100\n",
      "277/277 [==============================] - 0s 2ms/step - loss: 0.1149 - accuracy: 0.9538\n",
      "Epoch 23/100\n",
      "277/277 [==============================] - 0s 2ms/step - loss: 0.1163 - accuracy: 0.9538\n",
      "Epoch 24/100\n",
      "277/277 [==============================] - 0s 2ms/step - loss: 0.1066 - accuracy: 0.9529\n",
      "Epoch 25/100\n",
      "277/277 [==============================] - 0s 1ms/step - loss: 0.1020 - accuracy: 0.9607\n",
      "Epoch 26/100\n",
      "277/277 [==============================] - 0s 2ms/step - loss: 0.1117 - accuracy: 0.9507\n",
      "Epoch 27/100\n",
      "277/277 [==============================] - 0s 2ms/step - loss: 0.1046 - accuracy: 0.9551\n",
      "Epoch 28/100\n",
      "277/277 [==============================] - 0s 2ms/step - loss: 0.1108 - accuracy: 0.9531\n",
      "Epoch 29/100\n",
      "277/277 [==============================] - 0s 2ms/step - loss: 0.0996 - accuracy: 0.9596\n",
      "Epoch 30/100\n",
      "277/277 [==============================] - 0s 2ms/step - loss: 0.1036 - accuracy: 0.9576\n",
      "Epoch 31/100\n",
      "277/277 [==============================] - 0s 2ms/step - loss: 0.0939 - accuracy: 0.9633\n",
      "Epoch 32/100\n",
      "277/277 [==============================] - 0s 2ms/step - loss: 0.1090 - accuracy: 0.9558\n",
      "Epoch 33/100\n",
      "277/277 [==============================] - 0s 2ms/step - loss: 0.0957 - accuracy: 0.9616\n",
      "Epoch 34/100\n",
      "277/277 [==============================] - 0s 2ms/step - loss: 0.0990 - accuracy: 0.9605\n",
      "Epoch 35/100\n",
      "277/277 [==============================] - 0s 2ms/step - loss: 0.1081 - accuracy: 0.9578\n",
      "Epoch 36/100\n",
      "277/277 [==============================] - 0s 2ms/step - loss: 0.0985 - accuracy: 0.9557\n",
      "Epoch 37/100\n",
      "277/277 [==============================] - 0s 2ms/step - loss: 0.1004 - accuracy: 0.9590\n",
      "Epoch 38/100\n",
      "277/277 [==============================] - 0s 2ms/step - loss: 0.0983 - accuracy: 0.9588\n",
      "Epoch 39/100\n",
      "277/277 [==============================] - 0s 2ms/step - loss: 0.1037 - accuracy: 0.9555\n",
      "Epoch 40/100\n",
      "277/277 [==============================] - 0s 2ms/step - loss: 0.0980 - accuracy: 0.9590\n",
      "Epoch 41/100\n",
      "277/277 [==============================] - 0s 2ms/step - loss: 0.0979 - accuracy: 0.9574\n",
      "Epoch 42/100\n",
      "277/277 [==============================] - 0s 2ms/step - loss: 0.0972 - accuracy: 0.9621\n",
      "Epoch 43/100\n",
      "277/277 [==============================] - 0s 2ms/step - loss: 0.0965 - accuracy: 0.9617\n",
      "Epoch 44/100\n",
      "277/277 [==============================] - 0s 2ms/step - loss: 0.0996 - accuracy: 0.9580\n",
      "Epoch 45/100\n",
      "277/277 [==============================] - 0s 2ms/step - loss: 0.0949 - accuracy: 0.9565\n",
      "Epoch 46/100\n",
      "277/277 [==============================] - 0s 2ms/step - loss: 0.0928 - accuracy: 0.9637\n",
      "Epoch 47/100\n",
      "277/277 [==============================] - 0s 2ms/step - loss: 0.0871 - accuracy: 0.9654\n",
      "Epoch 48/100\n",
      "277/277 [==============================] - 0s 2ms/step - loss: 0.0961 - accuracy: 0.9619\n",
      "Epoch 49/100\n",
      "277/277 [==============================] - 0s 2ms/step - loss: 0.0933 - accuracy: 0.9632\n",
      "Epoch 50/100\n",
      "277/277 [==============================] - 0s 2ms/step - loss: 0.0899 - accuracy: 0.9614\n",
      "Epoch 51/100\n",
      "277/277 [==============================] - 1s 2ms/step - loss: 0.0923 - accuracy: 0.9657\n",
      "Epoch 52/100\n",
      "277/277 [==============================] - 0s 2ms/step - loss: 0.0865 - accuracy: 0.9630\n",
      "Epoch 53/100\n",
      "277/277 [==============================] - 0s 2ms/step - loss: 0.0970 - accuracy: 0.9568\n",
      "Epoch 54/100\n",
      "277/277 [==============================] - 0s 2ms/step - loss: 0.0934 - accuracy: 0.9608\n",
      "Epoch 55/100\n",
      "277/277 [==============================] - 0s 2ms/step - loss: 0.0902 - accuracy: 0.9621\n",
      "Epoch 56/100\n",
      "277/277 [==============================] - 0s 2ms/step - loss: 0.0807 - accuracy: 0.9681\n",
      "Epoch 57/100\n",
      "277/277 [==============================] - 0s 2ms/step - loss: 0.0900 - accuracy: 0.9614\n",
      "Epoch 58/100\n",
      "277/277 [==============================] - 0s 2ms/step - loss: 0.0871 - accuracy: 0.9614\n",
      "Epoch 59/100\n",
      "277/277 [==============================] - 0s 2ms/step - loss: 0.0853 - accuracy: 0.9647\n",
      "Epoch 60/100\n",
      "277/277 [==============================] - 0s 2ms/step - loss: 0.0827 - accuracy: 0.9689\n",
      "Epoch 61/100\n",
      "277/277 [==============================] - 0s 2ms/step - loss: 0.0847 - accuracy: 0.9639\n",
      "Epoch 62/100\n",
      "277/277 [==============================] - 0s 2ms/step - loss: 0.0873 - accuracy: 0.9617\n",
      "Epoch 63/100\n",
      "277/277 [==============================] - 0s 2ms/step - loss: 0.0873 - accuracy: 0.9642\n",
      "Epoch 64/100\n",
      "277/277 [==============================] - 0s 2ms/step - loss: 0.0821 - accuracy: 0.9664\n",
      "Epoch 65/100\n",
      "277/277 [==============================] - 0s 2ms/step - loss: 0.0927 - accuracy: 0.9618\n",
      "Epoch 66/100\n",
      "277/277 [==============================] - 0s 2ms/step - loss: 0.0867 - accuracy: 0.9614\n",
      "Epoch 67/100\n",
      "277/277 [==============================] - 0s 2ms/step - loss: 0.0846 - accuracy: 0.9634\n",
      "Epoch 68/100\n",
      "277/277 [==============================] - 0s 2ms/step - loss: 0.0842 - accuracy: 0.9636\n",
      "Epoch 69/100\n",
      "277/277 [==============================] - 0s 2ms/step - loss: 0.0885 - accuracy: 0.9622\n",
      "Epoch 70/100\n",
      "277/277 [==============================] - 0s 2ms/step - loss: 0.0889 - accuracy: 0.9633\n",
      "Epoch 71/100\n",
      "277/277 [==============================] - 0s 2ms/step - loss: 0.0802 - accuracy: 0.9663\n",
      "Epoch 72/100\n",
      "277/277 [==============================] - 0s 2ms/step - loss: 0.0935 - accuracy: 0.9570\n",
      "Epoch 73/100\n",
      "277/277 [==============================] - 0s 2ms/step - loss: 0.0840 - accuracy: 0.9627\n",
      "Epoch 74/100\n",
      "277/277 [==============================] - 0s 2ms/step - loss: 0.0749 - accuracy: 0.9701\n",
      "Epoch 75/100\n",
      "277/277 [==============================] - 0s 2ms/step - loss: 0.0859 - accuracy: 0.9654\n",
      "Epoch 76/100\n",
      "277/277 [==============================] - 0s 2ms/step - loss: 0.0857 - accuracy: 0.9675\n",
      "Epoch 77/100\n",
      "277/277 [==============================] - 0s 2ms/step - loss: 0.0915 - accuracy: 0.9611\n",
      "Epoch 78/100\n",
      "277/277 [==============================] - 0s 2ms/step - loss: 0.0831 - accuracy: 0.9656\n",
      "Epoch 79/100\n",
      "277/277 [==============================] - 0s 2ms/step - loss: 0.0809 - accuracy: 0.9681\n",
      "Epoch 80/100\n",
      "277/277 [==============================] - 0s 2ms/step - loss: 0.0796 - accuracy: 0.9668\n",
      "Epoch 81/100\n",
      "277/277 [==============================] - 0s 2ms/step - loss: 0.0808 - accuracy: 0.9677\n",
      "Epoch 82/100\n",
      "277/277 [==============================] - 0s 2ms/step - loss: 0.0816 - accuracy: 0.9655\n",
      "Epoch 83/100\n",
      "277/277 [==============================] - 0s 2ms/step - loss: 0.0920 - accuracy: 0.9627\n",
      "Epoch 84/100\n",
      "277/277 [==============================] - 0s 2ms/step - loss: 0.0848 - accuracy: 0.9625\n",
      "Epoch 85/100\n",
      "277/277 [==============================] - 0s 2ms/step - loss: 0.0768 - accuracy: 0.9659\n",
      "Epoch 86/100\n",
      "277/277 [==============================] - 0s 2ms/step - loss: 0.0777 - accuracy: 0.9665\n",
      "Epoch 87/100\n",
      "277/277 [==============================] - 0s 2ms/step - loss: 0.0843 - accuracy: 0.9653\n",
      "Epoch 88/100\n",
      "277/277 [==============================] - 0s 2ms/step - loss: 0.0835 - accuracy: 0.9657\n",
      "Epoch 89/100\n",
      "277/277 [==============================] - 0s 2ms/step - loss: 0.0840 - accuracy: 0.9659\n",
      "Epoch 90/100\n",
      "277/277 [==============================] - 0s 2ms/step - loss: 0.0792 - accuracy: 0.9667\n",
      "Epoch 91/100\n",
      "277/277 [==============================] - 0s 2ms/step - loss: 0.0754 - accuracy: 0.9699\n",
      "Epoch 92/100\n",
      "277/277 [==============================] - 0s 2ms/step - loss: 0.0793 - accuracy: 0.9663\n",
      "Epoch 93/100\n",
      "277/277 [==============================] - 1s 2ms/step - loss: 0.0763 - accuracy: 0.9650\n",
      "Epoch 94/100\n",
      "277/277 [==============================] - 0s 2ms/step - loss: 0.0760 - accuracy: 0.9654\n",
      "Epoch 95/100\n",
      "277/277 [==============================] - 0s 2ms/step - loss: 0.0889 - accuracy: 0.9628\n",
      "Epoch 96/100\n",
      "277/277 [==============================] - 0s 2ms/step - loss: 0.0805 - accuracy: 0.9650\n",
      "Epoch 97/100\n",
      "277/277 [==============================] - 0s 2ms/step - loss: 0.0799 - accuracy: 0.9640\n",
      "Epoch 98/100\n",
      "277/277 [==============================] - 0s 2ms/step - loss: 0.0836 - accuracy: 0.9658\n",
      "Epoch 99/100\n",
      "277/277 [==============================] - 0s 2ms/step - loss: 0.0822 - accuracy: 0.9668\n",
      "Epoch 100/100\n",
      "277/277 [==============================] - 0s 2ms/step - loss: 0.0789 - accuracy: 0.9667\n",
      "70/70 [==============================] - 0s 1ms/step - loss: 0.0930 - accuracy: 0.9661\n",
      "\n",
      "Accuracy score of the Neural Network  96.61%\n"
     ]
    }
   ],
   "source": [
    "history = model.fit(X_train, y_train, epochs=100)\n",
    "\n",
    "scores = model.evaluate(X_test, y_test)\n",
    "print('\\nAccuracy score of the Neural Network  {0:.2f}%'.format(scores[1]*100))"
   ]
  },
  {
   "cell_type": "code",
   "execution_count": 149,
   "metadata": {
    "colab": {
     "base_uri": "https://localhost:8080/"
    },
    "id": "C_5lpUxzldGd",
    "outputId": "baae00f2-6584-4716-d159-8bc7f1cbb46a"
   },
   "outputs": [
    {
     "name": "stdout",
     "output_type": "stream",
     "text": [
      "Epoch 1/128\n",
      "139/139 [==============================] - 0s 2ms/step - loss: 0.0757 - accuracy: 0.9683\n",
      "Epoch 2/128\n",
      "139/139 [==============================] - 0s 2ms/step - loss: 0.0758 - accuracy: 0.9682\n",
      "Epoch 3/128\n",
      "139/139 [==============================] - 0s 2ms/step - loss: 0.0750 - accuracy: 0.9696\n",
      "Epoch 4/128\n",
      "139/139 [==============================] - 0s 2ms/step - loss: 0.0729 - accuracy: 0.9706\n",
      "Epoch 5/128\n",
      "139/139 [==============================] - 0s 2ms/step - loss: 0.0745 - accuracy: 0.9699\n",
      "Epoch 6/128\n",
      "139/139 [==============================] - 0s 2ms/step - loss: 0.0727 - accuracy: 0.9709\n",
      "Epoch 7/128\n",
      "139/139 [==============================] - 0s 2ms/step - loss: 0.0754 - accuracy: 0.9698\n",
      "Epoch 8/128\n",
      "139/139 [==============================] - 0s 2ms/step - loss: 0.0767 - accuracy: 0.9689\n",
      "Epoch 9/128\n",
      "139/139 [==============================] - 0s 2ms/step - loss: 0.0752 - accuracy: 0.9683\n",
      "Epoch 10/128\n",
      "139/139 [==============================] - 0s 2ms/step - loss: 0.0731 - accuracy: 0.9711\n",
      "Epoch 11/128\n",
      "139/139 [==============================] - 0s 2ms/step - loss: 0.0735 - accuracy: 0.9677\n",
      "Epoch 12/128\n",
      "139/139 [==============================] - 0s 2ms/step - loss: 0.0747 - accuracy: 0.9678\n",
      "Epoch 13/128\n",
      "139/139 [==============================] - 0s 2ms/step - loss: 0.0764 - accuracy: 0.9688\n",
      "Epoch 14/128\n",
      "139/139 [==============================] - 0s 2ms/step - loss: 0.0748 - accuracy: 0.9677\n",
      "Epoch 15/128\n",
      "139/139 [==============================] - 0s 2ms/step - loss: 0.0740 - accuracy: 0.9682\n",
      "Epoch 16/128\n",
      "139/139 [==============================] - 0s 2ms/step - loss: 0.0746 - accuracy: 0.9680\n",
      "Epoch 17/128\n",
      "139/139 [==============================] - 0s 2ms/step - loss: 0.0747 - accuracy: 0.9689\n",
      "Epoch 18/128\n",
      "139/139 [==============================] - 0s 2ms/step - loss: 0.0762 - accuracy: 0.9675\n",
      "Epoch 19/128\n",
      "139/139 [==============================] - 0s 2ms/step - loss: 0.0747 - accuracy: 0.9697\n",
      "Epoch 20/128\n",
      "139/139 [==============================] - 0s 2ms/step - loss: 0.0743 - accuracy: 0.9688\n",
      "Epoch 21/128\n",
      "139/139 [==============================] - 0s 2ms/step - loss: 0.0785 - accuracy: 0.9678\n",
      "Epoch 22/128\n",
      "139/139 [==============================] - 0s 2ms/step - loss: 0.0731 - accuracy: 0.9700\n",
      "Epoch 23/128\n",
      "139/139 [==============================] - 0s 2ms/step - loss: 0.0743 - accuracy: 0.9707\n",
      "Epoch 24/128\n",
      "139/139 [==============================] - 0s 2ms/step - loss: 0.0774 - accuracy: 0.9673\n",
      "Epoch 25/128\n",
      "139/139 [==============================] - 0s 2ms/step - loss: 0.0728 - accuracy: 0.9711\n",
      "Epoch 26/128\n",
      "139/139 [==============================] - 0s 2ms/step - loss: 0.0739 - accuracy: 0.9672\n",
      "Epoch 27/128\n",
      "139/139 [==============================] - 0s 2ms/step - loss: 0.0728 - accuracy: 0.9695\n",
      "Epoch 28/128\n",
      "139/139 [==============================] - 0s 2ms/step - loss: 0.0747 - accuracy: 0.9675\n",
      "Epoch 29/128\n",
      "139/139 [==============================] - 0s 2ms/step - loss: 0.0754 - accuracy: 0.9691\n",
      "Epoch 30/128\n",
      "139/139 [==============================] - 0s 2ms/step - loss: 0.0734 - accuracy: 0.9695\n",
      "Epoch 31/128\n",
      "139/139 [==============================] - 0s 2ms/step - loss: 0.0708 - accuracy: 0.9697\n",
      "Epoch 32/128\n",
      "139/139 [==============================] - 0s 2ms/step - loss: 0.0783 - accuracy: 0.9663\n",
      "Epoch 33/128\n",
      "139/139 [==============================] - 0s 2ms/step - loss: 0.0760 - accuracy: 0.9687\n",
      "Epoch 34/128\n",
      "139/139 [==============================] - 0s 2ms/step - loss: 0.0740 - accuracy: 0.9699\n",
      "Epoch 35/128\n",
      "139/139 [==============================] - 0s 2ms/step - loss: 0.0736 - accuracy: 0.9686\n",
      "Epoch 36/128\n",
      "139/139 [==============================] - 0s 2ms/step - loss: 0.0738 - accuracy: 0.9686\n",
      "Epoch 37/128\n",
      "139/139 [==============================] - 0s 2ms/step - loss: 0.0732 - accuracy: 0.9687\n",
      "Epoch 38/128\n",
      "139/139 [==============================] - 0s 2ms/step - loss: 0.0728 - accuracy: 0.9687\n",
      "Epoch 39/128\n",
      "139/139 [==============================] - 0s 2ms/step - loss: 0.0717 - accuracy: 0.9690\n",
      "Epoch 40/128\n",
      "139/139 [==============================] - 0s 2ms/step - loss: 0.0704 - accuracy: 0.9692\n",
      "Epoch 41/128\n",
      "139/139 [==============================] - 0s 2ms/step - loss: 0.0723 - accuracy: 0.9681\n",
      "Epoch 42/128\n",
      "139/139 [==============================] - 0s 2ms/step - loss: 0.0718 - accuracy: 0.9700\n",
      "Epoch 43/128\n",
      "139/139 [==============================] - 0s 2ms/step - loss: 0.0760 - accuracy: 0.9708\n",
      "Epoch 44/128\n",
      "139/139 [==============================] - 0s 2ms/step - loss: 0.0720 - accuracy: 0.9700\n",
      "Epoch 45/128\n",
      "139/139 [==============================] - 0s 2ms/step - loss: 0.0719 - accuracy: 0.9700\n",
      "Epoch 46/128\n",
      "139/139 [==============================] - 0s 2ms/step - loss: 0.0765 - accuracy: 0.9695\n",
      "Epoch 47/128\n",
      "139/139 [==============================] - 0s 2ms/step - loss: 0.0692 - accuracy: 0.9695\n",
      "Epoch 48/128\n",
      "139/139 [==============================] - 0s 2ms/step - loss: 0.0713 - accuracy: 0.9706\n",
      "Epoch 49/128\n",
      "139/139 [==============================] - 0s 2ms/step - loss: 0.0714 - accuracy: 0.9687\n",
      "Epoch 50/128\n",
      "139/139 [==============================] - 0s 2ms/step - loss: 0.0757 - accuracy: 0.9718\n",
      "Epoch 51/128\n",
      "139/139 [==============================] - 0s 2ms/step - loss: 0.0728 - accuracy: 0.9691\n",
      "Epoch 52/128\n",
      "139/139 [==============================] - 0s 2ms/step - loss: 0.0699 - accuracy: 0.9718\n",
      "Epoch 53/128\n",
      "139/139 [==============================] - 0s 2ms/step - loss: 0.0744 - accuracy: 0.9692\n",
      "Epoch 54/128\n",
      "139/139 [==============================] - 0s 2ms/step - loss: 0.0737 - accuracy: 0.9678\n",
      "Epoch 55/128\n",
      "139/139 [==============================] - 0s 2ms/step - loss: 0.0753 - accuracy: 0.9666\n",
      "Epoch 56/128\n",
      "139/139 [==============================] - 0s 2ms/step - loss: 0.0750 - accuracy: 0.9712\n",
      "Epoch 57/128\n",
      "139/139 [==============================] - 0s 2ms/step - loss: 0.0716 - accuracy: 0.9698\n",
      "Epoch 58/128\n",
      "139/139 [==============================] - 0s 2ms/step - loss: 0.0766 - accuracy: 0.9682\n",
      "Epoch 59/128\n",
      "139/139 [==============================] - 0s 2ms/step - loss: 0.0721 - accuracy: 0.9708\n",
      "Epoch 60/128\n",
      "139/139 [==============================] - 0s 2ms/step - loss: 0.0743 - accuracy: 0.9692\n",
      "Epoch 61/128\n",
      "139/139 [==============================] - 0s 2ms/step - loss: 0.0694 - accuracy: 0.9723\n",
      "Epoch 62/128\n",
      "139/139 [==============================] - 0s 2ms/step - loss: 0.0691 - accuracy: 0.9727\n",
      "Epoch 63/128\n",
      "139/139 [==============================] - 0s 2ms/step - loss: 0.0713 - accuracy: 0.9690\n",
      "Epoch 64/128\n",
      "139/139 [==============================] - 0s 2ms/step - loss: 0.0707 - accuracy: 0.9697\n",
      "Epoch 65/128\n",
      "139/139 [==============================] - 0s 2ms/step - loss: 0.0721 - accuracy: 0.9683\n",
      "Epoch 66/128\n",
      "139/139 [==============================] - 0s 2ms/step - loss: 0.0725 - accuracy: 0.9703\n",
      "Epoch 67/128\n",
      "139/139 [==============================] - 0s 2ms/step - loss: 0.0713 - accuracy: 0.9707\n",
      "Epoch 68/128\n",
      "139/139 [==============================] - 0s 2ms/step - loss: 0.0692 - accuracy: 0.9707\n",
      "Epoch 69/128\n",
      "139/139 [==============================] - 0s 2ms/step - loss: 0.0713 - accuracy: 0.9704\n",
      "Epoch 70/128\n",
      "139/139 [==============================] - 0s 2ms/step - loss: 0.0673 - accuracy: 0.9714\n",
      "Epoch 71/128\n",
      "139/139 [==============================] - 0s 2ms/step - loss: 0.0687 - accuracy: 0.9708\n",
      "Epoch 72/128\n",
      "139/139 [==============================] - 0s 2ms/step - loss: 0.0679 - accuracy: 0.9713\n",
      "Epoch 73/128\n",
      "139/139 [==============================] - 0s 2ms/step - loss: 0.0702 - accuracy: 0.9709\n",
      "Epoch 74/128\n",
      "139/139 [==============================] - 0s 2ms/step - loss: 0.0728 - accuracy: 0.9705\n",
      "Epoch 75/128\n",
      "139/139 [==============================] - 0s 2ms/step - loss: 0.0696 - accuracy: 0.9733\n",
      "Epoch 76/128\n",
      "139/139 [==============================] - 0s 2ms/step - loss: 0.0747 - accuracy: 0.9675\n",
      "Epoch 77/128\n",
      "139/139 [==============================] - 0s 2ms/step - loss: 0.0726 - accuracy: 0.9699\n",
      "Epoch 78/128\n",
      "139/139 [==============================] - 0s 2ms/step - loss: 0.0742 - accuracy: 0.9682\n",
      "Epoch 79/128\n",
      "139/139 [==============================] - 0s 2ms/step - loss: 0.0700 - accuracy: 0.9709\n",
      "Epoch 80/128\n",
      "139/139 [==============================] - 0s 2ms/step - loss: 0.0739 - accuracy: 0.9677\n",
      "Epoch 81/128\n",
      "139/139 [==============================] - 0s 2ms/step - loss: 0.0752 - accuracy: 0.9691\n",
      "Epoch 82/128\n",
      "139/139 [==============================] - 0s 2ms/step - loss: 0.0722 - accuracy: 0.9713\n",
      "Epoch 83/128\n",
      "139/139 [==============================] - 0s 2ms/step - loss: 0.0734 - accuracy: 0.9691\n",
      "Epoch 84/128\n",
      "139/139 [==============================] - 0s 2ms/step - loss: 0.0706 - accuracy: 0.9711\n",
      "Epoch 85/128\n",
      "139/139 [==============================] - 0s 2ms/step - loss: 0.0728 - accuracy: 0.9687\n",
      "Epoch 86/128\n",
      "139/139 [==============================] - 0s 2ms/step - loss: 0.0696 - accuracy: 0.9699\n",
      "Epoch 87/128\n",
      "139/139 [==============================] - 0s 2ms/step - loss: 0.0688 - accuracy: 0.9707\n",
      "Epoch 88/128\n",
      "139/139 [==============================] - 0s 2ms/step - loss: 0.0678 - accuracy: 0.9700\n",
      "Epoch 89/128\n",
      "139/139 [==============================] - 0s 2ms/step - loss: 0.0723 - accuracy: 0.9709\n",
      "Epoch 90/128\n",
      "139/139 [==============================] - 0s 2ms/step - loss: 0.0692 - accuracy: 0.9678\n",
      "Epoch 91/128\n",
      "139/139 [==============================] - 0s 2ms/step - loss: 0.0705 - accuracy: 0.9697\n",
      "Epoch 92/128\n",
      "139/139 [==============================] - 0s 2ms/step - loss: 0.0745 - accuracy: 0.9689\n",
      "Epoch 93/128\n",
      "139/139 [==============================] - 0s 2ms/step - loss: 0.0716 - accuracy: 0.9699\n",
      "Epoch 94/128\n",
      "139/139 [==============================] - 0s 2ms/step - loss: 0.0741 - accuracy: 0.9708\n",
      "Epoch 95/128\n",
      "139/139 [==============================] - 0s 2ms/step - loss: 0.0751 - accuracy: 0.9687\n",
      "Epoch 96/128\n",
      "139/139 [==============================] - 0s 2ms/step - loss: 0.0743 - accuracy: 0.9673\n",
      "Epoch 97/128\n",
      "139/139 [==============================] - 0s 2ms/step - loss: 0.0715 - accuracy: 0.9706\n",
      "Epoch 98/128\n",
      "139/139 [==============================] - 0s 2ms/step - loss: 0.0685 - accuracy: 0.9715\n",
      "Epoch 99/128\n",
      "139/139 [==============================] - 0s 2ms/step - loss: 0.0691 - accuracy: 0.9706\n",
      "Epoch 100/128\n",
      "139/139 [==============================] - 0s 2ms/step - loss: 0.0663 - accuracy: 0.9726\n",
      "Epoch 101/128\n",
      "139/139 [==============================] - 0s 2ms/step - loss: 0.0667 - accuracy: 0.9717\n",
      "Epoch 102/128\n",
      "139/139 [==============================] - 0s 2ms/step - loss: 0.0702 - accuracy: 0.9699\n",
      "Epoch 103/128\n",
      "139/139 [==============================] - 0s 2ms/step - loss: 0.0697 - accuracy: 0.9701\n",
      "Epoch 104/128\n",
      "139/139 [==============================] - 0s 2ms/step - loss: 0.0722 - accuracy: 0.9699\n",
      "Epoch 105/128\n",
      "139/139 [==============================] - 0s 2ms/step - loss: 0.0685 - accuracy: 0.9721\n",
      "Epoch 106/128\n",
      "139/139 [==============================] - 0s 2ms/step - loss: 0.0718 - accuracy: 0.9701\n",
      "Epoch 107/128\n",
      "139/139 [==============================] - 0s 2ms/step - loss: 0.0735 - accuracy: 0.9680\n",
      "Epoch 108/128\n",
      "139/139 [==============================] - 0s 2ms/step - loss: 0.0713 - accuracy: 0.9712\n",
      "Epoch 109/128\n",
      "139/139 [==============================] - 0s 2ms/step - loss: 0.0673 - accuracy: 0.9723\n",
      "Epoch 110/128\n",
      "139/139 [==============================] - 0s 2ms/step - loss: 0.0668 - accuracy: 0.9713\n",
      "Epoch 111/128\n",
      "139/139 [==============================] - 0s 2ms/step - loss: 0.0675 - accuracy: 0.9722\n",
      "Epoch 112/128\n",
      "139/139 [==============================] - 0s 2ms/step - loss: 0.0697 - accuracy: 0.9715\n",
      "Epoch 113/128\n",
      "139/139 [==============================] - 0s 2ms/step - loss: 0.0702 - accuracy: 0.9690\n",
      "Epoch 114/128\n",
      "139/139 [==============================] - 0s 2ms/step - loss: 0.0705 - accuracy: 0.9695\n",
      "Epoch 115/128\n",
      "139/139 [==============================] - 0s 2ms/step - loss: 0.0702 - accuracy: 0.9690\n",
      "Epoch 116/128\n",
      "139/139 [==============================] - 0s 2ms/step - loss: 0.0709 - accuracy: 0.9715\n",
      "Epoch 117/128\n",
      "139/139 [==============================] - 0s 2ms/step - loss: 0.0700 - accuracy: 0.9713\n",
      "Epoch 118/128\n",
      "139/139 [==============================] - 0s 2ms/step - loss: 0.0748 - accuracy: 0.9686\n",
      "Epoch 119/128\n",
      "139/139 [==============================] - 0s 2ms/step - loss: 0.0719 - accuracy: 0.9709\n",
      "Epoch 120/128\n",
      "139/139 [==============================] - 0s 2ms/step - loss: 0.0728 - accuracy: 0.9683\n",
      "Epoch 121/128\n",
      "139/139 [==============================] - 0s 2ms/step - loss: 0.0703 - accuracy: 0.9718\n",
      "Epoch 122/128\n",
      "139/139 [==============================] - 0s 2ms/step - loss: 0.0727 - accuracy: 0.9701\n",
      "Epoch 123/128\n",
      "139/139 [==============================] - 0s 2ms/step - loss: 0.0740 - accuracy: 0.9695\n",
      "Epoch 124/128\n",
      "139/139 [==============================] - 0s 2ms/step - loss: 0.0675 - accuracy: 0.9733\n",
      "Epoch 125/128\n",
      "139/139 [==============================] - 0s 2ms/step - loss: 0.0670 - accuracy: 0.9712\n",
      "Epoch 126/128\n",
      "139/139 [==============================] - 0s 2ms/step - loss: 0.0700 - accuracy: 0.9714\n",
      "Epoch 127/128\n",
      "139/139 [==============================] - 0s 2ms/step - loss: 0.0731 - accuracy: 0.9698\n",
      "Epoch 128/128\n",
      "139/139 [==============================] - 0s 2ms/step - loss: 0.0703 - accuracy: 0.9683\n",
      "70/70 [==============================] - 0s 1ms/step - loss: 0.0908 - accuracy: 0.9670\n",
      "\n",
      "Accuracy score of the Neural Network with basic hyperparameter settings 96.70%\n"
     ]
    }
   ],
   "source": [
    "history = model.fit(X_train, y_train, batch_size=64, epochs=128, verbose=1)\n",
    "\n",
    "scores = model.evaluate(X_test, y_test)\n",
    "print('\\nAccuracy score of the Neural Network with basic hyperparameter settings {0:.2f}%'.format(scores[1]*100))"
   ]
  },
  {
   "cell_type": "code",
   "execution_count": 150,
   "metadata": {
    "id": "0lA8GpAWDfXK"
   },
   "outputs": [],
   "source": [
    "model_TDLBA = Sequential()\n",
    "\n",
    "model_TDLBA.add(Dense(40, activation='relu',\n",
    "          kernel_initializer='uniform',input_dim=30))\n",
    "model.add(Dropout(0.3))\n",
    "model_TDLBA.add(Dense(30, activation='relu',\n",
    "          kernel_initializer='uniform'))\n",
    "model.add(Dropout(0.4))\n",
    "model_TDLBA.add(Dense(1,  activation='sigmoid', \n",
    "          kernel_initializer='uniform'))\n",
    "\n",
    "adam = Adam(lr=0.0017470)\n",
    "model_TDLBA.compile(loss='binary_crossentropy', optimizer=adam, metrics=['accuracy'])"
   ]
  },
  {
   "cell_type": "code",
   "execution_count": 151,
   "metadata": {
    "colab": {
     "base_uri": "https://localhost:8080/"
    },
    "id": "V_rENDgUDo9w",
    "outputId": "eb5d6e93-3c11-4933-9ac0-646bb250d2c9"
   },
   "outputs": [
    {
     "name": "stdout",
     "output_type": "stream",
     "text": [
      "Epoch 1/128\n",
      "885/885 [==============================] - 2s 1ms/step - loss: 0.3159 - accuracy: 0.8693\n",
      "Epoch 2/128\n",
      "885/885 [==============================] - 1s 1ms/step - loss: 0.1834 - accuracy: 0.9245\n",
      "Epoch 3/128\n",
      "885/885 [==============================] - 1s 1ms/step - loss: 0.1558 - accuracy: 0.9364\n",
      "Epoch 4/128\n",
      "885/885 [==============================] - 1s 2ms/step - loss: 0.1422 - accuracy: 0.9417\n",
      "Epoch 5/128\n",
      "885/885 [==============================] - 1s 1ms/step - loss: 0.1309 - accuracy: 0.9427\n",
      "Epoch 6/128\n",
      "885/885 [==============================] - 1s 1ms/step - loss: 0.1232 - accuracy: 0.9489\n",
      "Epoch 7/128\n",
      "885/885 [==============================] - 1s 1ms/step - loss: 0.1111 - accuracy: 0.9508\n",
      "Epoch 8/128\n",
      "885/885 [==============================] - 1s 1ms/step - loss: 0.1086 - accuracy: 0.9534\n",
      "Epoch 9/128\n",
      "885/885 [==============================] - 1s 1ms/step - loss: 0.0934 - accuracy: 0.9582\n",
      "Epoch 10/128\n",
      "885/885 [==============================] - 1s 1ms/step - loss: 0.0956 - accuracy: 0.9602\n",
      "Epoch 11/128\n",
      "885/885 [==============================] - 1s 1ms/step - loss: 0.0879 - accuracy: 0.9622\n",
      "Epoch 12/128\n",
      "885/885 [==============================] - 1s 1ms/step - loss: 0.0903 - accuracy: 0.9621\n",
      "Epoch 13/128\n",
      "885/885 [==============================] - 1s 1ms/step - loss: 0.0880 - accuracy: 0.9636\n",
      "Epoch 14/128\n",
      "885/885 [==============================] - 1s 1ms/step - loss: 0.0800 - accuracy: 0.9647\n",
      "Epoch 15/128\n",
      "885/885 [==============================] - 1s 1ms/step - loss: 0.0812 - accuracy: 0.9662\n",
      "Epoch 16/128\n",
      "885/885 [==============================] - 1s 1ms/step - loss: 0.0776 - accuracy: 0.9664\n",
      "Epoch 17/128\n",
      "885/885 [==============================] - 1s 1ms/step - loss: 0.0723 - accuracy: 0.9687\n",
      "Epoch 18/128\n",
      "885/885 [==============================] - 1s 1ms/step - loss: 0.0709 - accuracy: 0.9714\n",
      "Epoch 19/128\n",
      "885/885 [==============================] - 1s 1ms/step - loss: 0.0709 - accuracy: 0.9704\n",
      "Epoch 20/128\n",
      "885/885 [==============================] - 1s 1ms/step - loss: 0.0736 - accuracy: 0.9690\n",
      "Epoch 21/128\n",
      "885/885 [==============================] - 1s 2ms/step - loss: 0.0635 - accuracy: 0.9744\n",
      "Epoch 22/128\n",
      "885/885 [==============================] - 1s 1ms/step - loss: 0.0626 - accuracy: 0.9736\n",
      "Epoch 23/128\n",
      "885/885 [==============================] - 1s 1ms/step - loss: 0.0627 - accuracy: 0.9749\n",
      "Epoch 24/128\n",
      "885/885 [==============================] - 1s 1ms/step - loss: 0.0614 - accuracy: 0.9741\n",
      "Epoch 25/128\n",
      "885/885 [==============================] - 1s 1ms/step - loss: 0.0610 - accuracy: 0.9732\n",
      "Epoch 26/128\n",
      "885/885 [==============================] - 1s 1ms/step - loss: 0.0663 - accuracy: 0.9701\n",
      "Epoch 27/128\n",
      "885/885 [==============================] - 1s 2ms/step - loss: 0.0605 - accuracy: 0.9720\n",
      "Epoch 28/128\n",
      "885/885 [==============================] - 1s 2ms/step - loss: 0.0551 - accuracy: 0.9755\n",
      "Epoch 29/128\n",
      "885/885 [==============================] - 1s 2ms/step - loss: 0.0581 - accuracy: 0.9748\n",
      "Epoch 30/128\n",
      "885/885 [==============================] - 1s 1ms/step - loss: 0.0678 - accuracy: 0.9698\n",
      "Epoch 31/128\n",
      "885/885 [==============================] - 1s 1ms/step - loss: 0.0504 - accuracy: 0.9763\n",
      "Epoch 32/128\n",
      "885/885 [==============================] - 1s 1ms/step - loss: 0.0559 - accuracy: 0.9758\n",
      "Epoch 33/128\n",
      "885/885 [==============================] - 1s 1ms/step - loss: 0.0544 - accuracy: 0.9747\n",
      "Epoch 34/128\n",
      "885/885 [==============================] - 1s 1ms/step - loss: 0.0549 - accuracy: 0.9760\n",
      "Epoch 35/128\n",
      "885/885 [==============================] - 1s 1ms/step - loss: 0.0546 - accuracy: 0.9765\n",
      "Epoch 36/128\n",
      "885/885 [==============================] - 1s 2ms/step - loss: 0.0462 - accuracy: 0.9798\n",
      "Epoch 37/128\n",
      "885/885 [==============================] - 1s 1ms/step - loss: 0.0462 - accuracy: 0.9811\n",
      "Epoch 38/128\n",
      "885/885 [==============================] - 1s 1ms/step - loss: 0.0475 - accuracy: 0.9766\n",
      "Epoch 39/128\n",
      "885/885 [==============================] - 1s 1ms/step - loss: 0.0503 - accuracy: 0.9748\n",
      "Epoch 40/128\n",
      "885/885 [==============================] - 1s 2ms/step - loss: 0.0502 - accuracy: 0.9769\n",
      "Epoch 41/128\n",
      "885/885 [==============================] - 1s 2ms/step - loss: 0.0462 - accuracy: 0.9770\n",
      "Epoch 42/128\n",
      "885/885 [==============================] - 1s 1ms/step - loss: 0.0495 - accuracy: 0.9762\n",
      "Epoch 43/128\n",
      "885/885 [==============================] - 1s 2ms/step - loss: 0.0437 - accuracy: 0.9795\n",
      "Epoch 44/128\n",
      "885/885 [==============================] - 1s 2ms/step - loss: 0.0428 - accuracy: 0.9785\n",
      "Epoch 45/128\n",
      "885/885 [==============================] - 1s 2ms/step - loss: 0.0497 - accuracy: 0.9787\n",
      "Epoch 46/128\n",
      "885/885 [==============================] - 1s 2ms/step - loss: 0.0437 - accuracy: 0.9791\n",
      "Epoch 47/128\n",
      "885/885 [==============================] - 1s 1ms/step - loss: 0.0449 - accuracy: 0.9786\n",
      "Epoch 48/128\n",
      "885/885 [==============================] - 1s 2ms/step - loss: 0.0463 - accuracy: 0.9780\n",
      "Epoch 49/128\n",
      "885/885 [==============================] - 1s 1ms/step - loss: 0.0461 - accuracy: 0.9772\n",
      "Epoch 50/128\n",
      "885/885 [==============================] - 1s 1ms/step - loss: 0.0421 - accuracy: 0.9791\n",
      "Epoch 51/128\n",
      "885/885 [==============================] - 1s 2ms/step - loss: 0.0482 - accuracy: 0.9784\n",
      "Epoch 52/128\n",
      "885/885 [==============================] - 1s 2ms/step - loss: 0.0426 - accuracy: 0.9785\n",
      "Epoch 53/128\n",
      "885/885 [==============================] - 1s 1ms/step - loss: 0.0481 - accuracy: 0.9792\n",
      "Epoch 54/128\n",
      "885/885 [==============================] - 1s 2ms/step - loss: 0.0466 - accuracy: 0.9760\n",
      "Epoch 55/128\n",
      "885/885 [==============================] - 1s 2ms/step - loss: 0.0451 - accuracy: 0.9789\n",
      "Epoch 56/128\n",
      "885/885 [==============================] - 1s 1ms/step - loss: 0.0427 - accuracy: 0.9796\n",
      "Epoch 57/128\n",
      "885/885 [==============================] - 1s 2ms/step - loss: 0.0358 - accuracy: 0.9842\n",
      "Epoch 58/128\n",
      "885/885 [==============================] - 1s 2ms/step - loss: 0.0400 - accuracy: 0.9814\n",
      "Epoch 59/128\n",
      "885/885 [==============================] - 1s 2ms/step - loss: 0.0429 - accuracy: 0.9799\n",
      "Epoch 60/128\n",
      "885/885 [==============================] - 1s 1ms/step - loss: 0.0430 - accuracy: 0.9779\n",
      "Epoch 61/128\n",
      "885/885 [==============================] - 1s 2ms/step - loss: 0.0401 - accuracy: 0.9804\n",
      "Epoch 62/128\n",
      "885/885 [==============================] - 1s 1ms/step - loss: 0.0395 - accuracy: 0.9799\n",
      "Epoch 63/128\n",
      "885/885 [==============================] - 1s 1ms/step - loss: 0.0389 - accuracy: 0.9826\n",
      "Epoch 64/128\n",
      "885/885 [==============================] - 1s 2ms/step - loss: 0.0437 - accuracy: 0.9792\n",
      "Epoch 65/128\n",
      "885/885 [==============================] - 1s 1ms/step - loss: 0.0385 - accuracy: 0.9822\n",
      "Epoch 66/128\n",
      "885/885 [==============================] - 1s 2ms/step - loss: 0.0339 - accuracy: 0.9843\n",
      "Epoch 67/128\n",
      "885/885 [==============================] - 1s 1ms/step - loss: 0.0392 - accuracy: 0.9803\n",
      "Epoch 68/128\n",
      "885/885 [==============================] - 1s 1ms/step - loss: 0.0441 - accuracy: 0.9808\n",
      "Epoch 69/128\n",
      "885/885 [==============================] - 1s 1ms/step - loss: 0.0387 - accuracy: 0.9816\n",
      "Epoch 70/128\n",
      "885/885 [==============================] - 1s 1ms/step - loss: 0.0449 - accuracy: 0.9811\n",
      "Epoch 71/128\n",
      "885/885 [==============================] - 1s 1ms/step - loss: 0.0340 - accuracy: 0.9849\n",
      "Epoch 72/128\n",
      "885/885 [==============================] - 1s 1ms/step - loss: 0.0399 - accuracy: 0.9813\n",
      "Epoch 73/128\n",
      "885/885 [==============================] - 1s 1ms/step - loss: 0.0343 - accuracy: 0.9829\n",
      "Epoch 74/128\n",
      "885/885 [==============================] - 1s 1ms/step - loss: 0.0354 - accuracy: 0.9823\n",
      "Epoch 75/128\n",
      "885/885 [==============================] - 1s 2ms/step - loss: 0.0385 - accuracy: 0.9804\n",
      "Epoch 76/128\n",
      "885/885 [==============================] - 1s 1ms/step - loss: 0.0407 - accuracy: 0.9811\n",
      "Epoch 77/128\n",
      "885/885 [==============================] - 1s 2ms/step - loss: 0.0402 - accuracy: 0.9817\n",
      "Epoch 78/128\n",
      "885/885 [==============================] - 1s 2ms/step - loss: 0.0387 - accuracy: 0.9830\n",
      "Epoch 79/128\n",
      "885/885 [==============================] - 1s 1ms/step - loss: 0.0357 - accuracy: 0.9830\n",
      "Epoch 80/128\n",
      "885/885 [==============================] - 1s 1ms/step - loss: 0.0388 - accuracy: 0.9808\n",
      "Epoch 81/128\n",
      "885/885 [==============================] - 1s 2ms/step - loss: 0.0416 - accuracy: 0.9811\n",
      "Epoch 82/128\n",
      "885/885 [==============================] - 1s 2ms/step - loss: 0.0355 - accuracy: 0.9806\n",
      "Epoch 83/128\n",
      "885/885 [==============================] - 1s 1ms/step - loss: 0.0336 - accuracy: 0.9833\n",
      "Epoch 84/128\n",
      "885/885 [==============================] - 1s 2ms/step - loss: 0.0368 - accuracy: 0.9811\n",
      "Epoch 85/128\n",
      "885/885 [==============================] - 1s 2ms/step - loss: 0.0335 - accuracy: 0.9835\n",
      "Epoch 86/128\n",
      "885/885 [==============================] - 1s 2ms/step - loss: 0.0360 - accuracy: 0.9834\n",
      "Epoch 87/128\n",
      "885/885 [==============================] - 1s 2ms/step - loss: 0.0450 - accuracy: 0.9799\n",
      "Epoch 88/128\n",
      "885/885 [==============================] - 1s 2ms/step - loss: 0.0366 - accuracy: 0.9817\n",
      "Epoch 89/128\n",
      "885/885 [==============================] - 1s 2ms/step - loss: 0.0346 - accuracy: 0.9819\n",
      "Epoch 90/128\n",
      "885/885 [==============================] - 1s 2ms/step - loss: 0.0280 - accuracy: 0.9857\n",
      "Epoch 91/128\n",
      "885/885 [==============================] - 1s 1ms/step - loss: 0.0356 - accuracy: 0.9822\n",
      "Epoch 92/128\n",
      "885/885 [==============================] - 1s 1ms/step - loss: 0.0485 - accuracy: 0.9833\n",
      "Epoch 93/128\n",
      "885/885 [==============================] - 1s 2ms/step - loss: 0.0297 - accuracy: 0.9861\n",
      "Epoch 94/128\n",
      "885/885 [==============================] - 1s 1ms/step - loss: 0.0353 - accuracy: 0.9801\n",
      "Epoch 95/128\n",
      "885/885 [==============================] - 1s 1ms/step - loss: 0.0350 - accuracy: 0.9821\n",
      "Epoch 96/128\n",
      "885/885 [==============================] - 1s 2ms/step - loss: 0.0361 - accuracy: 0.9837\n",
      "Epoch 97/128\n",
      "885/885 [==============================] - 1s 2ms/step - loss: 0.0342 - accuracy: 0.9836\n",
      "Epoch 98/128\n",
      "885/885 [==============================] - 1s 2ms/step - loss: 0.0331 - accuracy: 0.9841\n",
      "Epoch 99/128\n",
      "885/885 [==============================] - 1s 2ms/step - loss: 0.0298 - accuracy: 0.9860\n",
      "Epoch 100/128\n",
      "885/885 [==============================] - 1s 1ms/step - loss: 0.0298 - accuracy: 0.9857\n",
      "Epoch 101/128\n",
      "885/885 [==============================] - 1s 2ms/step - loss: 0.0330 - accuracy: 0.9849\n",
      "Epoch 102/128\n",
      "885/885 [==============================] - 1s 2ms/step - loss: 0.0294 - accuracy: 0.9866\n",
      "Epoch 103/128\n",
      "885/885 [==============================] - 1s 2ms/step - loss: 0.0330 - accuracy: 0.9862\n",
      "Epoch 104/128\n",
      "885/885 [==============================] - 1s 2ms/step - loss: 0.0309 - accuracy: 0.9857\n",
      "Epoch 105/128\n",
      "885/885 [==============================] - 1s 2ms/step - loss: 0.0328 - accuracy: 0.9837\n",
      "Epoch 106/128\n",
      "885/885 [==============================] - 1s 2ms/step - loss: 0.0353 - accuracy: 0.9827\n",
      "Epoch 107/128\n",
      "885/885 [==============================] - 1s 2ms/step - loss: 0.0313 - accuracy: 0.9845\n",
      "Epoch 108/128\n",
      "885/885 [==============================] - 1s 2ms/step - loss: 0.0268 - accuracy: 0.9875\n",
      "Epoch 109/128\n",
      "885/885 [==============================] - 1s 2ms/step - loss: 0.0316 - accuracy: 0.9834\n",
      "Epoch 110/128\n",
      "885/885 [==============================] - 1s 2ms/step - loss: 0.0308 - accuracy: 0.9838\n",
      "Epoch 111/128\n",
      "885/885 [==============================] - 1s 2ms/step - loss: 0.0324 - accuracy: 0.9870\n",
      "Epoch 112/128\n",
      "885/885 [==============================] - 1s 2ms/step - loss: 0.0284 - accuracy: 0.9867\n",
      "Epoch 113/128\n",
      "885/885 [==============================] - 1s 2ms/step - loss: 0.0319 - accuracy: 0.9855\n",
      "Epoch 114/128\n",
      "885/885 [==============================] - 1s 2ms/step - loss: 0.0266 - accuracy: 0.9872\n",
      "Epoch 115/128\n",
      "885/885 [==============================] - 1s 2ms/step - loss: 0.0292 - accuracy: 0.9858\n",
      "Epoch 116/128\n",
      "885/885 [==============================] - 1s 2ms/step - loss: 0.0266 - accuracy: 0.9888\n",
      "Epoch 117/128\n",
      "885/885 [==============================] - 1s 2ms/step - loss: 0.0296 - accuracy: 0.9858\n",
      "Epoch 118/128\n",
      "885/885 [==============================] - 1s 1ms/step - loss: 0.0345 - accuracy: 0.9850\n",
      "Epoch 119/128\n",
      "885/885 [==============================] - 1s 2ms/step - loss: 0.0305 - accuracy: 0.9847\n",
      "Epoch 120/128\n",
      "885/885 [==============================] - 1s 2ms/step - loss: 0.0296 - accuracy: 0.9861\n",
      "Epoch 121/128\n",
      "885/885 [==============================] - 1s 2ms/step - loss: 0.0283 - accuracy: 0.9865\n",
      "Epoch 122/128\n",
      "885/885 [==============================] - 1s 1ms/step - loss: 0.0278 - accuracy: 0.9859\n",
      "Epoch 123/128\n",
      "885/885 [==============================] - 1s 2ms/step - loss: 0.0305 - accuracy: 0.9858\n",
      "Epoch 124/128\n",
      "885/885 [==============================] - 1s 2ms/step - loss: 0.0313 - accuracy: 0.9844\n",
      "Epoch 125/128\n",
      "885/885 [==============================] - 1s 2ms/step - loss: 0.0296 - accuracy: 0.9849\n",
      "Epoch 126/128\n",
      "885/885 [==============================] - 1s 2ms/step - loss: 0.0273 - accuracy: 0.9872\n",
      "Epoch 127/128\n",
      "885/885 [==============================] - 1s 2ms/step - loss: 0.0297 - accuracy: 0.9846\n",
      "Epoch 128/128\n",
      "885/885 [==============================] - 1s 2ms/step - loss: 0.0357 - accuracy: 0.9834\n",
      "70/70 [==============================] - 0s 1ms/step - loss: 0.1932 - accuracy: 0.9670\n",
      "\n",
      "Accuracy score of the Neural Network with TDLBA hyperparameter settings 96.70%\n"
     ]
    }
   ],
   "source": [
    "history_TDLBA = model_TDLBA.fit(X_train, y_train, batch_size=10, epochs=128, verbose=1)\n",
    "\n",
    "scores = model_TDLBA.evaluate(X_test, y_test)\n",
    "print('\\nAccuracy score of the Neural Network with TDLBA hyperparameter settings {0:.2f}%'.format(scores[1]*100))"
   ]
  },
  {
   "cell_type": "code",
   "execution_count": 152,
   "metadata": {
    "id": "DEkqyew9ldGd"
   },
   "outputs": [],
   "source": [
    "model_TDLHBA = Sequential()\n",
    "\n",
    "model_TDLHBA.add(Dense(40, activation='relu',\n",
    "          kernel_initializer='uniform',input_dim=30))\n",
    "model.add(Dropout(0.3))\n",
    "model_TDLHBA.add(Dense(30, activation='relu',\n",
    "          kernel_initializer='uniform'))\n",
    "model.add(Dropout(0.4))\n",
    "model_TDLHBA.add(Dense(1,  activation='sigmoid', \n",
    "          kernel_initializer='uniform'))\n",
    "\n",
    "adam = Adam(lr=0.0017470)\n",
    "model_TDLHBA.compile(loss='binary_crossentropy', optimizer=adam, metrics=['accuracy'])"
   ]
  },
  {
   "cell_type": "code",
   "execution_count": 153,
   "metadata": {
    "colab": {
     "base_uri": "https://localhost:8080/"
    },
    "id": "AzWtno5aldGe",
    "outputId": "17a787a4-356c-4430-e4b1-7df2bfb590bb"
   },
   "outputs": [
    {
     "name": "stdout",
     "output_type": "stream",
     "text": [
      "Epoch 1/100\n",
      "885/885 [==============================] - 2s 1ms/step - loss: 0.3255 - accuracy: 0.8617\n",
      "Epoch 2/100\n",
      "885/885 [==============================] - 1s 1ms/step - loss: 0.1801 - accuracy: 0.9282\n",
      "Epoch 3/100\n",
      "885/885 [==============================] - 1s 1ms/step - loss: 0.1572 - accuracy: 0.9377\n",
      "Epoch 4/100\n",
      "885/885 [==============================] - 1s 1ms/step - loss: 0.1530 - accuracy: 0.9344\n",
      "Epoch 5/100\n",
      "885/885 [==============================] - 1s 1ms/step - loss: 0.1250 - accuracy: 0.9467\n",
      "Epoch 6/100\n",
      "885/885 [==============================] - 1s 1ms/step - loss: 0.1205 - accuracy: 0.9492\n",
      "Epoch 7/100\n",
      "885/885 [==============================] - 1s 1ms/step - loss: 0.1208 - accuracy: 0.9407\n",
      "Epoch 8/100\n",
      "885/885 [==============================] - 1s 1ms/step - loss: 0.1160 - accuracy: 0.9492\n",
      "Epoch 9/100\n",
      "885/885 [==============================] - 1s 1ms/step - loss: 0.1089 - accuracy: 0.9495\n",
      "Epoch 10/100\n",
      "885/885 [==============================] - 1s 1ms/step - loss: 0.0949 - accuracy: 0.9585\n",
      "Epoch 11/100\n",
      "885/885 [==============================] - 1s 1ms/step - loss: 0.0989 - accuracy: 0.9568\n",
      "Epoch 12/100\n",
      "885/885 [==============================] - 1s 1ms/step - loss: 0.0920 - accuracy: 0.9582\n",
      "Epoch 13/100\n",
      "885/885 [==============================] - 1s 1ms/step - loss: 0.0862 - accuracy: 0.9618\n",
      "Epoch 14/100\n",
      "885/885 [==============================] - 1s 1ms/step - loss: 0.0800 - accuracy: 0.9676\n",
      "Epoch 15/100\n",
      "885/885 [==============================] - 1s 2ms/step - loss: 0.0793 - accuracy: 0.9661\n",
      "Epoch 16/100\n",
      "885/885 [==============================] - 1s 1ms/step - loss: 0.0766 - accuracy: 0.9681\n",
      "Epoch 17/100\n",
      "885/885 [==============================] - 1s 2ms/step - loss: 0.0726 - accuracy: 0.9678\n",
      "Epoch 18/100\n",
      "885/885 [==============================] - 1s 1ms/step - loss: 0.0675 - accuracy: 0.9744\n",
      "Epoch 19/100\n",
      "885/885 [==============================] - 1s 1ms/step - loss: 0.0665 - accuracy: 0.9697\n",
      "Epoch 20/100\n",
      "885/885 [==============================] - 1s 1ms/step - loss: 0.0691 - accuracy: 0.9689\n",
      "Epoch 21/100\n",
      "885/885 [==============================] - 1s 1ms/step - loss: 0.0619 - accuracy: 0.9718\n",
      "Epoch 22/100\n",
      "885/885 [==============================] - 1s 1ms/step - loss: 0.0621 - accuracy: 0.9734\n",
      "Epoch 23/100\n",
      "885/885 [==============================] - 1s 1ms/step - loss: 0.0595 - accuracy: 0.9753\n",
      "Epoch 24/100\n",
      "885/885 [==============================] - 1s 1ms/step - loss: 0.0596 - accuracy: 0.9732\n",
      "Epoch 25/100\n",
      "885/885 [==============================] - 1s 1ms/step - loss: 0.0603 - accuracy: 0.9740\n",
      "Epoch 26/100\n",
      "885/885 [==============================] - 1s 2ms/step - loss: 0.0614 - accuracy: 0.9726\n",
      "Epoch 27/100\n",
      "885/885 [==============================] - 1s 2ms/step - loss: 0.0570 - accuracy: 0.9760\n",
      "Epoch 28/100\n",
      "885/885 [==============================] - 1s 1ms/step - loss: 0.0571 - accuracy: 0.9761\n",
      "Epoch 29/100\n",
      "885/885 [==============================] - 1s 1ms/step - loss: 0.0544 - accuracy: 0.9738\n",
      "Epoch 30/100\n",
      "885/885 [==============================] - 1s 1ms/step - loss: 0.0538 - accuracy: 0.9749\n",
      "Epoch 31/100\n",
      "885/885 [==============================] - 1s 1ms/step - loss: 0.0485 - accuracy: 0.9794\n",
      "Epoch 32/100\n",
      "885/885 [==============================] - 1s 1ms/step - loss: 0.0515 - accuracy: 0.9768\n",
      "Epoch 33/100\n",
      "885/885 [==============================] - 1s 2ms/step - loss: 0.0536 - accuracy: 0.9787\n",
      "Epoch 34/100\n",
      "885/885 [==============================] - 1s 2ms/step - loss: 0.0520 - accuracy: 0.9785\n",
      "Epoch 35/100\n",
      "885/885 [==============================] - 1s 1ms/step - loss: 0.0497 - accuracy: 0.9790\n",
      "Epoch 36/100\n",
      "885/885 [==============================] - 1s 2ms/step - loss: 0.0509 - accuracy: 0.9773\n",
      "Epoch 37/100\n",
      "885/885 [==============================] - 1s 2ms/step - loss: 0.0480 - accuracy: 0.9794\n",
      "Epoch 38/100\n",
      "885/885 [==============================] - 1s 2ms/step - loss: 0.0432 - accuracy: 0.9818\n",
      "Epoch 39/100\n",
      "885/885 [==============================] - 1s 2ms/step - loss: 0.0497 - accuracy: 0.9785\n",
      "Epoch 40/100\n",
      "885/885 [==============================] - 1s 1ms/step - loss: 0.0427 - accuracy: 0.9819\n",
      "Epoch 41/100\n",
      "885/885 [==============================] - 1s 1ms/step - loss: 0.0529 - accuracy: 0.9751\n",
      "Epoch 42/100\n",
      "885/885 [==============================] - 1s 2ms/step - loss: 0.0434 - accuracy: 0.9825\n",
      "Epoch 43/100\n",
      "885/885 [==============================] - 1s 1ms/step - loss: 0.0436 - accuracy: 0.9797\n",
      "Epoch 44/100\n",
      "885/885 [==============================] - 1s 1ms/step - loss: 0.0480 - accuracy: 0.9805\n",
      "Epoch 45/100\n",
      "885/885 [==============================] - 1s 2ms/step - loss: 0.0444 - accuracy: 0.9819\n",
      "Epoch 46/100\n",
      "885/885 [==============================] - 1s 2ms/step - loss: 0.0439 - accuracy: 0.9805\n",
      "Epoch 47/100\n",
      "885/885 [==============================] - 1s 2ms/step - loss: 0.0453 - accuracy: 0.9816\n",
      "Epoch 48/100\n",
      "885/885 [==============================] - 1s 2ms/step - loss: 0.0394 - accuracy: 0.9836\n",
      "Epoch 49/100\n",
      "885/885 [==============================] - 1s 2ms/step - loss: 0.0426 - accuracy: 0.9811\n",
      "Epoch 50/100\n",
      "885/885 [==============================] - 1s 1ms/step - loss: 0.0408 - accuracy: 0.9821\n",
      "Epoch 51/100\n",
      "885/885 [==============================] - 2s 2ms/step - loss: 0.0406 - accuracy: 0.9835\n",
      "Epoch 52/100\n",
      "885/885 [==============================] - 1s 2ms/step - loss: 0.0357 - accuracy: 0.9848\n",
      "Epoch 53/100\n",
      "885/885 [==============================] - 1s 2ms/step - loss: 0.0410 - accuracy: 0.9832\n",
      "Epoch 54/100\n",
      "885/885 [==============================] - 1s 2ms/step - loss: 0.0407 - accuracy: 0.9803\n",
      "Epoch 55/100\n",
      "885/885 [==============================] - 1s 2ms/step - loss: 0.0431 - accuracy: 0.9809\n",
      "Epoch 56/100\n",
      "885/885 [==============================] - 1s 2ms/step - loss: 0.0408 - accuracy: 0.9835\n",
      "Epoch 57/100\n",
      "885/885 [==============================] - 1s 1ms/step - loss: 0.0413 - accuracy: 0.9806\n",
      "Epoch 58/100\n",
      "885/885 [==============================] - 1s 2ms/step - loss: 0.0390 - accuracy: 0.9840\n",
      "Epoch 59/100\n",
      "885/885 [==============================] - 1s 2ms/step - loss: 0.0418 - accuracy: 0.9837\n",
      "Epoch 60/100\n",
      "885/885 [==============================] - 1s 2ms/step - loss: 0.0425 - accuracy: 0.9819\n",
      "Epoch 61/100\n",
      "885/885 [==============================] - 1s 2ms/step - loss: 0.0370 - accuracy: 0.9853\n",
      "Epoch 62/100\n",
      "885/885 [==============================] - 1s 2ms/step - loss: 0.0397 - accuracy: 0.9836\n",
      "Epoch 63/100\n",
      "885/885 [==============================] - 1s 2ms/step - loss: 0.0394 - accuracy: 0.9829\n",
      "Epoch 64/100\n",
      "885/885 [==============================] - 1s 2ms/step - loss: 0.0358 - accuracy: 0.9848\n",
      "Epoch 65/100\n",
      "885/885 [==============================] - 1s 2ms/step - loss: 0.0364 - accuracy: 0.9835\n",
      "Epoch 66/100\n",
      "885/885 [==============================] - 1s 1ms/step - loss: 0.0376 - accuracy: 0.9843\n",
      "Epoch 67/100\n",
      "885/885 [==============================] - 1s 2ms/step - loss: 0.0389 - accuracy: 0.9848\n",
      "Epoch 68/100\n",
      "885/885 [==============================] - 1s 2ms/step - loss: 0.0399 - accuracy: 0.9820\n",
      "Epoch 69/100\n",
      "885/885 [==============================] - 1s 2ms/step - loss: 0.0399 - accuracy: 0.9813\n",
      "Epoch 70/100\n",
      "885/885 [==============================] - 1s 2ms/step - loss: 0.0309 - accuracy: 0.9859\n",
      "Epoch 71/100\n",
      "885/885 [==============================] - 1s 2ms/step - loss: 0.0352 - accuracy: 0.9829\n",
      "Epoch 72/100\n",
      "885/885 [==============================] - 1s 2ms/step - loss: 0.0382 - accuracy: 0.9817\n",
      "Epoch 73/100\n",
      "885/885 [==============================] - 1s 2ms/step - loss: 0.0381 - accuracy: 0.9828\n",
      "Epoch 74/100\n",
      "885/885 [==============================] - 1s 2ms/step - loss: 0.0342 - accuracy: 0.9836\n",
      "Epoch 75/100\n",
      "885/885 [==============================] - 1s 2ms/step - loss: 0.0441 - accuracy: 0.9805\n",
      "Epoch 76/100\n",
      "885/885 [==============================] - 1s 2ms/step - loss: 0.0325 - accuracy: 0.9864\n",
      "Epoch 77/100\n",
      "885/885 [==============================] - 1s 2ms/step - loss: 0.0351 - accuracy: 0.9838\n",
      "Epoch 78/100\n",
      "885/885 [==============================] - 2s 2ms/step - loss: 0.0394 - accuracy: 0.9807\n",
      "Epoch 79/100\n",
      "885/885 [==============================] - 1s 2ms/step - loss: 0.0341 - accuracy: 0.9837\n",
      "Epoch 80/100\n",
      "885/885 [==============================] - 1s 2ms/step - loss: 0.0315 - accuracy: 0.9863\n",
      "Epoch 81/100\n",
      "885/885 [==============================] - 1s 2ms/step - loss: 0.0346 - accuracy: 0.9846\n",
      "Epoch 82/100\n",
      "885/885 [==============================] - 2s 2ms/step - loss: 0.0333 - accuracy: 0.9854\n",
      "Epoch 83/100\n",
      "885/885 [==============================] - 1s 2ms/step - loss: 0.0339 - accuracy: 0.9848\n",
      "Epoch 84/100\n",
      "885/885 [==============================] - 1s 2ms/step - loss: 0.0309 - accuracy: 0.9864\n",
      "Epoch 85/100\n",
      "885/885 [==============================] - 1s 2ms/step - loss: 0.0347 - accuracy: 0.9838\n",
      "Epoch 86/100\n",
      "885/885 [==============================] - 1s 2ms/step - loss: 0.0308 - accuracy: 0.9859\n",
      "Epoch 87/100\n",
      "885/885 [==============================] - 1s 2ms/step - loss: 0.0365 - accuracy: 0.9831\n",
      "Epoch 88/100\n",
      "885/885 [==============================] - 1s 2ms/step - loss: 0.0321 - accuracy: 0.9859\n",
      "Epoch 89/100\n",
      "885/885 [==============================] - 1s 1ms/step - loss: 0.0313 - accuracy: 0.9858\n",
      "Epoch 90/100\n",
      "885/885 [==============================] - 1s 2ms/step - loss: 0.0307 - accuracy: 0.9879\n",
      "Epoch 91/100\n",
      "885/885 [==============================] - 1s 1ms/step - loss: 0.0337 - accuracy: 0.9851\n",
      "Epoch 92/100\n",
      "885/885 [==============================] - 1s 2ms/step - loss: 0.0300 - accuracy: 0.9854\n",
      "Epoch 93/100\n",
      "885/885 [==============================] - 1s 2ms/step - loss: 0.0313 - accuracy: 0.9857\n",
      "Epoch 94/100\n",
      "885/885 [==============================] - 1s 2ms/step - loss: 0.0396 - accuracy: 0.9833\n",
      "Epoch 95/100\n",
      "885/885 [==============================] - 1s 1ms/step - loss: 0.0392 - accuracy: 0.9835\n",
      "Epoch 96/100\n",
      "885/885 [==============================] - 1s 2ms/step - loss: 0.0350 - accuracy: 0.9838\n",
      "Epoch 97/100\n",
      "885/885 [==============================] - 1s 2ms/step - loss: 0.0271 - accuracy: 0.9871\n",
      "Epoch 98/100\n",
      "885/885 [==============================] - 1s 2ms/step - loss: 0.0358 - accuracy: 0.9825\n",
      "Epoch 99/100\n",
      "885/885 [==============================] - 1s 1ms/step - loss: 0.0368 - accuracy: 0.9816\n",
      "Epoch 100/100\n",
      "885/885 [==============================] - 1s 2ms/step - loss: 0.0284 - accuracy: 0.9868\n",
      "70/70 [==============================] - 0s 1ms/step - loss: 0.1283 - accuracy: 0.9738\n",
      "\n",
      "Accuracy score of the Neural Network with TDLHBA hyperparameter settings 97.38%\n"
     ]
    }
   ],
   "source": [
    "history_TDLHBA = model_TDLHBA.fit(X_train, y_train, batch_size=10, epochs=90, verbose=1)\n",
    "\n",
    "scores = model_TDLHBA.evaluate(X_test, y_test)\n",
    "print('\\nAccuracy score of the Neural Network with TDLHBA hyperparameter settings {0:.2f}%'.format(scores[1]*100))"
   ]
  },
  {
   "cell_type": "code",
   "execution_count": 154,
   "metadata": {
    "id": "a4QEOKC88MZK"
   },
   "outputs": [],
   "source": [
    "from sklearn.metrics import ConfusionMatrixDisplay\n",
    "def confusion_matrix_diagram():\n",
    "  y_pred = model_TDLHBA.predict_classes(X_test)\n",
    "  cm = confusion_matrix(y_test, y_pred)\n",
    "  disp = ConfusionMatrixDisplay(confusion_matrix=cm,display_labels=classes)\n",
    "  fig, ax = plt.subplots(figsize=(10, 10))\n",
    "  plt.grid(color = \"black\")\n",
    "  plt.xticks(['0','1'])\n",
    "  disp = disp.plot(xticks_rotation='vertical', ax=ax, cmap = \"summer\")"
   ]
  },
  {
   "cell_type": "code",
   "execution_count": 155,
   "metadata": {
    "colab": {
     "base_uri": "https://localhost:8080/"
    },
    "id": "CfCDC8C1CzDX",
    "outputId": "86b3c92a-194a-4ebb-b5be-7b395d49df74"
   },
   "outputs": [
    {
     "data": {
      "text/plain": [
       "array([[ 939,   35],\n",
       "       [  38, 1199]])"
      ]
     },
     "execution_count": 155,
     "metadata": {
      "tags": []
     },
     "output_type": "execute_result"
    }
   ],
   "source": [
    "y_pred = model_TDLBA.predict_classes(X_test)\n",
    "cm=confusion_matrix(y_test, y_pred)\n",
    "cm"
   ]
  },
  {
   "cell_type": "code",
   "execution_count": 156,
   "metadata": {
    "colab": {
     "base_uri": "https://localhost:8080/"
    },
    "id": "uVInyDRng12R",
    "outputId": "8f98c6a0-278e-4ce4-e515-6d8838e841c4"
   },
   "outputs": [
    {
     "data": {
      "text/plain": [
       "array([[ 930,   44],\n",
       "       [  29, 1208]])"
      ]
     },
     "execution_count": 156,
     "metadata": {
      "tags": []
     },
     "output_type": "execute_result"
    }
   ],
   "source": [
    "y_pred = model.predict_classes(X_test)\n",
    "cm=confusion_matrix(y_test, y_pred)\n",
    "cm"
   ]
  },
  {
   "cell_type": "code",
   "execution_count": 157,
   "metadata": {
    "colab": {
     "base_uri": "https://localhost:8080/"
    },
    "id": "K2VkmyMHksMT",
    "outputId": "9e571fa5-d783-45bc-826a-10c8f1106ebd"
   },
   "outputs": [
    {
     "data": {
      "text/plain": [
       "array([[ 939,   35],\n",
       "       [  23, 1214]])"
      ]
     },
     "execution_count": 157,
     "metadata": {
      "tags": []
     },
     "output_type": "execute_result"
    }
   ],
   "source": [
    "y_pred = model_TDLHBA.predict_classes(X_test)\n",
    "cm=confusion_matrix(y_test, y_pred)\n",
    "cm"
   ]
  },
  {
   "cell_type": "code",
   "execution_count": 158,
   "metadata": {
    "colab": {
     "base_uri": "https://localhost:8080/",
     "height": 285
    },
    "id": "PHhwB12C9b55",
    "outputId": "99b15b56-3549-4520-b26c-a68c421fca21"
   },
   "outputs": [
    {
     "data": {
      "text/plain": [
       "<matplotlib.axes._subplots.AxesSubplot at 0x7f8671eb2610>"
      ]
     },
     "execution_count": 158,
     "metadata": {
      "tags": []
     },
     "output_type": "execute_result"
    },
    {
     "data": {
      "image/png": "[encoded data removed]",
      "text/plain": [
       "<Figure size 432x288 with 2 Axes>"
      ]
     },
     "metadata": {
      "tags": []
     },
     "output_type": "display_data"
    }
   ],
   "source": [
    "import seaborn as sn\n",
    "sn.heatmap(cm, annot=True)\n",
    "#0 corresponds to malware webistes\n",
    "#1 corresponds to normal websites"
   ]
  },
  {
   "cell_type": "code",
   "execution_count": 159,
   "metadata": {
    "colab": {
     "base_uri": "https://localhost:8080/"
    },
    "id": "ZLHIBlfsDt0i",
    "outputId": "ea7f46a3-067d-4de0-b577-426ae0d1e9ff"
   },
   "outputs": [
    {
     "data": {
      "text/plain": [
       "array([3.81574e-05], dtype=float32)"
      ]
     },
     "execution_count": 159,
     "metadata": {
      "tags": []
     },
     "output_type": "execute_result"
    }
   ],
   "source": [
    "model_TDLHBA.predict_proba(X)[1]\n"
   ]
  },
  {
   "cell_type": "code",
   "execution_count": 160,
   "metadata": {
    "colab": {
     "base_uri": "https://localhost:8080/"
    },
    "id": "xgtsxcMAI4Eq",
    "outputId": "186b8b3a-cea0-412c-936a-9c46910f6aa4"
   },
   "outputs": [
    {
     "data": {
      "text/plain": [
       "array([0], dtype=int32)"
      ]
     },
     "execution_count": 160,
     "metadata": {
      "tags": []
     },
     "output_type": "execute_result"
    }
   ],
   "source": [
    "model_TDLBA.predict_classes(X)[1]       #0 corresponds to malware webistes"
   ]
  },
  {
   "cell_type": "code",
   "execution_count": 161,
   "metadata": {
    "colab": {
     "base_uri": "https://localhost:8080/"
    },
    "id": "NiBUH-D-JAyS",
    "outputId": "2c975063-d2a7-445e-d16d-36eb7643e164"
   },
   "outputs": [
    {
     "data": {
      "text/plain": [
       "array([1], dtype=int32)"
      ]
     },
     "execution_count": 161,
     "metadata": {
      "tags": []
     },
     "output_type": "execute_result"
    }
   ],
   "source": [
    "model_TDLBA.predict_classes(X)[5]       #1 corresponds to normal websites"
   ]
  },
  {
   "cell_type": "code",
   "execution_count": 162,
   "metadata": {
    "colab": {
     "base_uri": "https://localhost:8080/"
    },
    "id": "ZH6uwg7plg1x",
    "outputId": "a41eea3a-fb7c-49a8-ffa4-9761b6fb51a1"
   },
   "outputs": [
    {
     "data": {
      "text/plain": [
       "array([0], dtype=int32)"
      ]
     },
     "execution_count": 162,
     "metadata": {
      "tags": []
     },
     "output_type": "execute_result"
    }
   ],
   "source": [
    "model_TDLHBA.predict_classes(X)[1]       #0 corresponds to malware webistes"
   ]
  },
  {
   "cell_type": "code",
   "execution_count": 163,
   "metadata": {
    "colab": {
     "base_uri": "https://localhost:8080/"
    },
    "id": "wkdGN5qQoGC5",
    "outputId": "fddaf761-b9ca-4224-e60f-1e48ae721892"
   },
   "outputs": [
    {
     "data": {
      "text/plain": [
       "array([0], dtype=int32)"
      ]
     },
     "execution_count": 163,
     "metadata": {
      "tags": []
     },
     "output_type": "execute_result"
    }
   ],
   "source": [
    "model_TDLHBA.predict_classes(X)[3] "
   ]
  },
  {
   "cell_type": "code",
   "execution_count": 164,
   "metadata": {
    "colab": {
     "base_uri": "https://localhost:8080/"
    },
    "id": "ubn1-I6rmjgP",
    "outputId": "bee49764-feed-4298-bd5c-dfb3f59619d3"
   },
   "outputs": [
    {
     "data": {
      "text/plain": [
       "array([1], dtype=int32)"
      ]
     },
     "execution_count": 164,
     "metadata": {
      "tags": []
     },
     "output_type": "execute_result"
    }
   ],
   "source": [
    "model_TDLHBA.predict_classes(X)[5]       #1 corresponds to normal websites"
   ]
  },
  {
   "cell_type": "code",
   "execution_count": 165,
   "metadata": {
    "colab": {
     "base_uri": "https://localhost:8080/"
    },
    "id": "63xWBliCohUy",
    "outputId": "c259f911-b7c9-4890-864c-a027c9401e7f"
   },
   "outputs": [
    {
     "data": {
      "text/plain": [
       "array([1], dtype=int32)"
      ]
     },
     "execution_count": 165,
     "metadata": {
      "tags": []
     },
     "output_type": "execute_result"
    }
   ],
   "source": [
    "model_TDLHBA.predict_classes(X)[20]   "
   ]
  }
 ],
 "metadata": {
  "colab": {
   "name": "Btech Project imp.ipynb",
   "provenance": []
  },
  "kernelspec": {
   "display_name": "Python 3",
   "language": "python",
   "name": "python3"
  },
  "language_info": {
   "codemirror_mode": {
    "name": "ipython",
    "version": 3
   },
   "file_extension": ".py",
   "mimetype": "text/x-python",
   "name": "python",
   "nbconvert_exporter": "python",
   "pygments_lexer": "ipython3",
   "version": "3.8.3"
  }
 },
 "nbformat": 4,
 "nbformat_minor": 1
}
